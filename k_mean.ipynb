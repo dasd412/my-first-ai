{
  "nbformat": 4,
  "nbformat_minor": 0,
  "metadata": {
    "colab": {
      "private_outputs": true,
      "provenance": [],
      "authorship_tag": "ABX9TyPON57LnSQEMfTMZJfemux4",
      "include_colab_link": true
    },
    "kernelspec": {
      "name": "python3",
      "display_name": "Python 3"
    },
    "language_info": {
      "name": "python"
    }
  },
  "cells": [
    {
      "cell_type": "markdown",
      "metadata": {
        "id": "view-in-github",
        "colab_type": "text"
      },
      "source": [
        "<a href=\"https://colab.research.google.com/github/dasd412/my-first-ai/blob/main/%08k_mean.ipynb\" target=\"_parent\"><img src=\"https://colab.research.google.com/assets/colab-badge.svg\" alt=\"Open In Colab\"/></a>"
      ]
    },
    {
      "cell_type": "code",
      "execution_count": null,
      "metadata": {
        "id": "XtNskaXtUEH5"
      },
      "outputs": [],
      "source": [
        "# k 평균 군집 알고리즘은 각 과일 사진의 평균 값을 자동으로 찾아준다.\n",
        "# 이 평균값이 클러스터 중심에 위치하기 때문에 클러스터 중심 또는 센트로이드라고 부른다.\n",
        "\n",
        "# k 평균 알고리즘 작동 방식 (처음에는 랜덤하게 클러스터 중심을 선택해서 점차 가까운 샘플의 중심으로 이동하는 알고리즘이다.)\n",
        "# 1. 무작위로 k개의 클러스터 중심을 정한다.\n",
        "# 2. 각 샘플에서 가장 가까운 클러스터 중심을 찾아 해당 클러스터의 샘플로 지정한다.\n",
        "# 3. 클러스터에 속한 샘플의 평균값으로 클러스터 중심을 변경한다.\n",
        "# 4. 클러스터 중심에 변화가 없을 때까지 2번으로 돌아가 반복한다."
      ]
    },
    {
      "cell_type": "code",
      "source": [
        "# 데이터 다운로드\n",
        "!wget https://bit.ly/fruits_300_data -O fruits_300.npy"
      ],
      "metadata": {
        "id": "TI2ncpXOVH1D"
      },
      "execution_count": null,
      "outputs": []
    },
    {
      "cell_type": "code",
      "source": [
        "import numpy as np\n",
        "\n",
        "fruits=np.load('fruits_300.npy')\n",
        "\n",
        "# (샘플 개수, 너비, 높이) 크기의 3차원 배열을 (샘플 개수, 너비 * 높이)의 2차원 배열로 변경\n",
        "fruits_2d=fruits.reshape(-1,100*100)"
      ],
      "metadata": {
        "id": "eR5T1Lq_Vlpi"
      },
      "execution_count": null,
      "outputs": []
    },
    {
      "cell_type": "code",
      "source": [
        "# 클러스터 개수를 3으로 지정함\n",
        "from sklearn.cluster import KMeans\n",
        "\n",
        "km=KMeans(n_clusters=3,random_state=42)\n",
        "km.fit(fruits_2d)"
      ],
      "metadata": {
        "id": "3Ar3XxFQV9pl"
      },
      "execution_count": null,
      "outputs": []
    },
    {
      "cell_type": "code",
      "source": [
        "# 군집된 결과는 KMeans 객체의 labels_ 속성에 저장됨. labels_ 배열의 길이는 샘플 개수와 같음 (해당 배열은 각 샘플이 어떤 레이블에 해당하는 지 나타냄)\n",
        "print(km.labels_)"
      ],
      "metadata": {
        "id": "hQoxgSmxWRaH"
      },
      "execution_count": null,
      "outputs": []
    },
    {
      "cell_type": "code",
      "source": [
        "print(np.unique(km.labels_,return_counts=True))\n",
        "# 첫 번째 클러스터 (레이블 0)이 111개의 샘플, 두 번쨰 클러스터 (레이블 1)이 98개의 샘플, 세 번째 클러스터 (레이블 2)가 91개의 샘플을 모은것을 확인할 수 있다."
      ],
      "metadata": {
        "id": "P7C6Ok4fWdcS"
      },
      "execution_count": null,
      "outputs": []
    },
    {
      "cell_type": "code",
      "source": [
        "# 각 클러스터가 어떤 이미지를 나타냈는지 그림으로 출력하기 위해 유틸 함수 만듬\n",
        "import matplotlib.pyplot as plt\n",
        "\n",
        "def draw_fruits(arr,ratio=1):\n",
        "    n=len(arr)\n",
        "    # 한줄에 10개씩 이미지를 그린다. 샘플 개수를 10으로 나누어 전체 행 개수 계산\n",
        "    rows=int(np.ceil(n/10))\n",
        "    # 행이 1개이면 열의 개수는 샘플 개수. 그렇지 않으면 10개\n",
        "    cols = n if rows<2 else 10\n",
        "\n",
        "    fig,axs=plt.subplots(rows,cols,figsize=(cols*ratio,rows*ratio),squeeze=False)\n",
        "\n",
        "    for i in range(rows):\n",
        "        for j in range(cols):\n",
        "            if i*10+j < n :# n개까지만 그림.\n",
        "                axs[i,j].imshow(arr[i*10+j],cmap='gray_r')\n",
        "            axs[i,j].axis('off')\n",
        "    plt.show()"
      ],
      "metadata": {
        "id": "iWN8CXUjW5ch"
      },
      "execution_count": null,
      "outputs": []
    },
    {
      "cell_type": "code",
      "source": [
        "# 넘파이 불리언 인덱싱을 활용하여 레이블의 0인 과일 사진만 그려보기\n",
        "draw_fruits(fruits[km.labels_==0])"
      ],
      "metadata": {
        "id": "VCci9LTvYZ11"
      },
      "execution_count": null,
      "outputs": []
    },
    {
      "cell_type": "code",
      "source": [
        "draw_fruits(fruits[km.labels_==1])"
      ],
      "metadata": {
        "id": "qt-rCqGdYyJv"
      },
      "execution_count": null,
      "outputs": []
    },
    {
      "cell_type": "code",
      "source": [
        "draw_fruits(fruits[km.labels_==2])"
      ],
      "metadata": {
        "id": "eP0JvjXFZDbZ"
      },
      "execution_count": null,
      "outputs": []
    },
    {
      "cell_type": "markdown",
      "source": [
        "k mean 알고리즘이 완벽히 구별해낸 것은 아니지만, 훈련 데이터에 타깃 레이블을 전혀 제공하지 않았음에도 스스로 비슷한 샘플을 잘 모았다."
      ],
      "metadata": {
        "id": "6OKKKwJQZJI3"
      }
    },
    {
      "cell_type": "code",
      "source": [
        "# KMeans 클래스가 최종적으로 찾은 클러스터 중심은 cluster_centers_ 속성에 저장되어 있다.\n",
        "# 2차원으로 압축된 걸 풀어야 하므로 100*100의 2차원 배열로 바꿔서 표현해야 함\n",
        "draw_fruits(km.cluster_centers_.reshape(-1,100,100),ratio=3)"
      ],
      "metadata": {
        "id": "g27hW1BGZRgc"
      },
      "execution_count": null,
      "outputs": []
    },
    {
      "cell_type": "code",
      "source": [
        "# 훈련 데이터 샘플에서 클러스터 중심까지 거리로 변환해주는 transform()\n",
        "print(km.transform(fruits_2d[100:101]))"
      ],
      "metadata": {
        "id": "E7nt61JjZq2U"
      },
      "execution_count": null,
      "outputs": []
    },
    {
      "cell_type": "code",
      "source": [
        "print(km.predict(fruits_2d[100:101]))"
      ],
      "metadata": {
        "id": "W0btyzm_Z3mi"
      },
      "execution_count": null,
      "outputs": []
    },
    {
      "cell_type": "code",
      "source": [
        "draw_fruits(fruits[100:101])"
      ],
      "metadata": {
        "id": "NyFjBriNaE_4"
      },
      "execution_count": null,
      "outputs": []
    },
    {
      "cell_type": "code",
      "source": [
        "# k means 알고리즘이 반복한 횟수\n",
        "print(km.n_iter_)"
      ],
      "metadata": {
        "id": "wyqiADUBaJMw"
      },
      "execution_count": null,
      "outputs": []
    },
    {
      "cell_type": "code",
      "source": [
        "# 사실 위 예제는 클러스터 개수를 맘대로 지정했기 때문에 타깃에 대한 정보를 활용한 것이다.\n",
        "# 아예 최적의 k를 찾는 방법이 필요하다. (실무에선)"
      ],
      "metadata": {
        "id": "kZpG_PMxaTni"
      },
      "execution_count": null,
      "outputs": []
    },
    {
      "cell_type": "code",
      "source": [
        "# 적절한 클러스터 개수 k를 찾는 방법으로 엘보우가 있다.\n",
        "# 엘보우는 클러스터 중심과 클러스터에 속한 샘플 사이의 거리 제곱합인 '이너셔'의 변화를 관찰한다. 그리고 최적의 클러스터 개수를 찾아나간다.\n",
        "# 클러스터 개수와 이너셔 값의 그래프가 꺽이는 지점이 최적의 클러스터 개수다."
      ],
      "metadata": {
        "id": "MW2vDtqLahf2"
      },
      "execution_count": null,
      "outputs": []
    },
    {
      "cell_type": "code",
      "source": [
        "inertia=[]\n",
        "\n",
        "for k in range(2,7):\n",
        "    km=KMeans(n_clusters=k,random_state=42)\n",
        "    km.fit(fruits_2d)\n",
        "    inertia.append(km.inertia_)\n",
        "\n",
        "plt.plot(range(2,7),inertia)\n",
        "plt.xlabel('k')\n",
        "plt.ylabel('inertia')\n",
        "plt.show()"
      ],
      "metadata": {
        "id": "UVo9WvGya_At"
      },
      "execution_count": null,
      "outputs": []
    }
  ]
}