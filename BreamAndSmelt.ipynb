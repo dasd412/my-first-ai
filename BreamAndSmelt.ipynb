{
  "nbformat": 4,
  "nbformat_minor": 0,
  "metadata": {
    "colab": {
      "private_outputs": true,
      "provenance": [],
      "authorship_tag": "ABX9TyMnZ3xAJ+esTJofz/XyLlag",
      "include_colab_link": true
    },
    "kernelspec": {
      "name": "python3",
      "display_name": "Python 3"
    },
    "language_info": {
      "name": "python"
    }
  },
  "cells": [
    {
      "cell_type": "markdown",
      "metadata": {
        "id": "view-in-github",
        "colab_type": "text"
      },
      "source": [
        "<a href=\"https://colab.research.google.com/github/dasd412/my-first-ai/blob/main/BreamAndSmelt.ipynb\" target=\"_parent\"><img src=\"https://colab.research.google.com/assets/colab-badge.svg\" alt=\"Open In Colab\"/></a>"
      ]
    },
    {
      "cell_type": "code",
      "execution_count": null,
      "metadata": {
        "id": "nI6Z6YSV7U8U"
      },
      "outputs": [],
      "source": [
        "# 도미의 길이\n",
        "bream_length = [25.4, 26.3, 26.5, 29.0, 29.0, 29.7, 29.7, 30.0, 30.0, 30.7, 31.0, 31.0, \n",
        "                31.5, 32.0, 32.0, 32.0, 33.0, 33.0, 33.5, 33.5, 34.0, 34.0, 34.5, 35.0, \n",
        "                35.0, 35.0, 35.0, 36.0, 36.0, 37.0, 38.5, 38.5, 39.5, 41.0, 41.0]\n",
        "# 도미의 무게\n",
        "bream_weight = [242.0, 290.0, 340.0, 363.0, 430.0, 450.0, 500.0, 390.0, 450.0, 500.0, 475.0, 500.0, \n",
        "                500.0, 340.0, 600.0, 600.0, 700.0, 700.0, 610.0, 650.0, 575.0, 685.0, 620.0, 680.0, \n",
        "                700.0, 725.0, 720.0, 714.0, 850.0, 1000.0, 920.0, 955.0, 925.0, 975.0, 950.0]"
      ]
    },
    {
      "cell_type": "code",
      "source": [
        "import matplotlib.pyplot as plt\n",
        "\n",
        "plt.scatter(bream_length,bream_weight)\n",
        "plt.xlabel('length')\n",
        "plt.ylabel('weight')\n",
        "\n",
        "plt.show()"
      ],
      "metadata": {
        "id": "bPx7ryLc92rn"
      },
      "execution_count": null,
      "outputs": []
    },
    {
      "cell_type": "code",
      "source": [
        "# 빙어의 길이\n",
        "smelt_length = [9.8, 10.5, 10.6, 11.0, 11.2, 11.3, 11.8, 11.8, 12.0, 12.2, 12.4, 13.0, 14.3, 15.0]\n",
        "# 빙어의 무게\n",
        "smelt_weight = [6.7, 7.5, 7.0, 9.7, 9.8, 8.7, 10.0, 9.9, 9.8, 12.2, 13.4, 12.2, 19.7, 19.9]"
      ],
      "metadata": {
        "id": "nLqLBDLT-NVs"
      },
      "execution_count": null,
      "outputs": []
    },
    {
      "cell_type": "code",
      "source": [
        "plt.scatter(bream_length,bream_weight)\n",
        "plt.scatter(smelt_length,smelt_weight)\n",
        "\n",
        "plt.xlabel('length')\n",
        "plt.ylabel('weight')\n",
        "plt.show()"
      ],
      "metadata": {
        "id": "p4W7VEB7-ZEq"
      },
      "execution_count": null,
      "outputs": []
    },
    {
      "cell_type": "code",
      "source": [
        "# 두 리스트 하나로 합치기\n",
        "length = bream_length+smelt_length\n",
        "weight = bream_weight+smelt_weight\n"
      ],
      "metadata": {
        "id": "noozGjvJ-3Pm"
      },
      "execution_count": null,
      "outputs": []
    },
    {
      "cell_type": "code",
      "source": [
        "# zip() == 나열된 리스트 각각에서 하나씩 원소를 꺼내서 반환\n",
        "fish_data=[[l,w] for l,w in zip(length,weight)]"
      ],
      "metadata": {
        "id": "YvufHggh-_Ql"
      },
      "execution_count": null,
      "outputs": []
    },
    {
      "cell_type": "code",
      "source": [
        "print(fish_data)"
      ],
      "metadata": {
        "id": "Xvc6YwrP_Wel"
      },
      "execution_count": null,
      "outputs": []
    },
    {
      "cell_type": "code",
      "source": [
        "# 답 만들어주기 (도미 =1, 빙어 =0)\n",
        "fish_target=[1]*35+[0]*14\n",
        "print(fish_target)"
      ],
      "metadata": {
        "id": "xzgNx-EA_naL"
      },
      "execution_count": null,
      "outputs": []
    },
    {
      "cell_type": "code",
      "source": [
        "# knn을 구현하기 위한 클래스 임포트\n",
        "from sklearn.neighbors import KNeighborsClassifier\n",
        "\n",
        "# 모델 생성\n",
        "kn=KNeighborsClassifier()\n",
        "\n",
        "# 모델에 데이터를 전달하여 규칙을 학습시킴 == 훈련(training)\n",
        "kn.fit(fish_data,fish_target)\n",
        "\n",
        "# 모델이 잘 훈련되었는 지 평가 (0~1, 1에 가까울수록 많이 맞힘.)\n",
        "kn.score(fish_data,fish_target)"
      ],
      "metadata": {
        "id": "c8RfxzMK_yWG"
      },
      "execution_count": null,
      "outputs": []
    },
    {
      "cell_type": "code",
      "source": [
        "# 새로운 데이터의 정답 예측\n",
        "kn.predict([[30,600]])"
      ],
      "metadata": {
        "id": "rsynEJknAebH"
      },
      "execution_count": null,
      "outputs": []
    },
    {
      "cell_type": "code",
      "source": [
        "print(kn._fit_X)"
      ],
      "metadata": {
        "id": "ciBPOnFxAsvp"
      },
      "execution_count": null,
      "outputs": []
    },
    {
      "cell_type": "code",
      "source": [
        "print(kn._y)"
      ],
      "metadata": {
        "id": "RD75MPB6Ay7p"
      },
      "execution_count": null,
      "outputs": []
    },
    {
      "cell_type": "code",
      "source": [
        "# 참고 데이터를 49개로 한 모델\n",
        "kn49=KNeighborsClassifier(n_neighbors=49)\n",
        "\n",
        "kn49.fit(fish_data,fish_target)\n",
        "\n",
        "kn49.score(fish_data,fish_target)\n"
      ],
      "metadata": {
        "id": "92oCjKMXA829"
      },
      "execution_count": null,
      "outputs": []
    },
    {
      "cell_type": "code",
      "source": [
        "print(35/49)"
      ],
      "metadata": {
        "id": "0i3ddS8DBTby"
      },
      "execution_count": null,
      "outputs": []
    },
    {
      "cell_type": "code",
      "source": [
        "\n",
        "kn=KNeighborsClassifier()\n",
        "\n",
        "kn.fit(fish_data,fish_target)\n",
        "\n",
        "for n in range(5,50):\n",
        "    kn.n_neighbors=n\n",
        "    \n",
        "    score=kn.score(fish_data,fish_target)\n",
        "\n",
        "    if score<1:\n",
        "        print(n,score)\n",
        "        break\n",
        "        "
      ],
      "metadata": {
        "id": "44CSCeQ_D3XI"
      },
      "execution_count": null,
      "outputs": []
    }
  ]
}