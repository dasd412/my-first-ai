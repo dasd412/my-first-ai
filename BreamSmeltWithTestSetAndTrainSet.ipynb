{
  "nbformat": 4,
  "nbformat_minor": 0,
  "metadata": {
    "colab": {
      "private_outputs": true,
      "provenance": [],
      "authorship_tag": "ABX9TyM5ctLaHYUrVRom6swk/siC",
      "include_colab_link": true
    },
    "kernelspec": {
      "name": "python3",
      "display_name": "Python 3"
    },
    "language_info": {
      "name": "python"
    }
  },
  "cells": [
    {
      "cell_type": "markdown",
      "metadata": {
        "id": "view-in-github",
        "colab_type": "text"
      },
      "source": [
        "<a href=\"https://colab.research.google.com/github/dasd412/my-first-ai/blob/main/BreamSmeltWithTestSetAndTrainSet.ipynb\" target=\"_parent\"><img src=\"https://colab.research.google.com/assets/colab-badge.svg\" alt=\"Open In Colab\"/></a>"
      ]
    },
    {
      "cell_type": "code",
      "execution_count": null,
      "metadata": {
        "id": "mRoc2ZnqF6C9"
      },
      "outputs": [],
      "source": [
        "fish_length = [25.4, 26.3, 26.5, 29.0, 29.0, 29.7, 29.7, 30.0, 30.0, 30.7, 31.0, 31.0, \n",
        "                31.5, 32.0, 32.0, 32.0, 33.0, 33.0, 33.5, 33.5, 34.0, 34.0, 34.5, 35.0, \n",
        "                35.0, 35.0, 35.0, 36.0, 36.0, 37.0, 38.5, 38.5, 39.5, 41.0, 41.0, 9.8, \n",
        "                10.5, 10.6, 11.0, 11.2, 11.3, 11.8, 11.8, 12.0, 12.2, 12.4, 13.0, 14.3, 15.0]\n",
        "fish_weight = [242.0, 290.0, 340.0, 363.0, 430.0, 450.0, 500.0, 390.0, 450.0, 500.0, 475.0, 500.0, \n",
        "                500.0, 340.0, 600.0, 600.0, 700.0, 700.0, 610.0, 650.0, 575.0, 685.0, 620.0, 680.0, \n",
        "                700.0, 725.0, 720.0, 714.0, 850.0, 1000.0, 920.0, 955.0, 925.0, 975.0, 950.0, 6.7, \n",
        "                7.5, 7.0, 9.7, 9.8, 8.7, 10.0, 9.9, 9.8, 12.2, 13.4, 12.2, 19.7, 19.9]"
      ]
    },
    {
      "cell_type": "code",
      "source": [
        "fish_data=[[l,w] for l,w in zip(fish_length,fish_weight)]\n",
        "\n",
        "fish_target=[1]*35+[0]*14\n"
      ],
      "metadata": {
        "id": "s8z4FL5kGUlS"
      },
      "execution_count": null,
      "outputs": []
    },
    {
      "cell_type": "code",
      "source": [
        "from sklearn.neighbors import KNeighborsClassifier\n",
        "\n",
        "kn=KNeighborsClassifier()\n"
      ],
      "metadata": {
        "id": "lhh8JLOVGmHl"
      },
      "execution_count": null,
      "outputs": []
    },
    {
      "cell_type": "code",
      "source": [
        "print(fish_data[4])"
      ],
      "metadata": {
        "id": "RVMeYfbHGvXL"
      },
      "execution_count": null,
      "outputs": []
    },
    {
      "cell_type": "code",
      "source": [
        "print(fish_data[0:5])"
      ],
      "metadata": {
        "id": "N1pSud3aGxpO"
      },
      "execution_count": null,
      "outputs": []
    },
    {
      "cell_type": "code",
      "source": [
        "print(fish_data[44:])"
      ],
      "metadata": {
        "id": "G_wjJocRHDLV"
      },
      "execution_count": null,
      "outputs": []
    },
    {
      "cell_type": "code",
      "source": [
        "# 훈련 세트로 입력 값 중 0 부터 34번째 인덱스 까지 사용\n",
        "train_input=fish_data[:35]\n",
        "\n",
        "# 훈련 세트로 타깃 값 중 0 부터 34번째 인덱스 까지 사용\n",
        "train_target=fish_target[:35]\n",
        "\n",
        "# 테스트 세트로 입력 값 중 35번째부터 마지막 인덱스까지 사용\n",
        "test_input=fish_data[35:]\n",
        "\n",
        "# 테스트 세트로 타깃 값 중 35번째부터 마지막 인덱스까지 사용\n",
        "test_target=fish_target[35:]\n",
        "\n"
      ],
      "metadata": {
        "id": "Nk2Q3NZcHKiK"
      },
      "execution_count": null,
      "outputs": []
    },
    {
      "cell_type": "code",
      "source": [
        "kn.fit(train_input,train_target)\n",
        "\n",
        "kn.score(test_input,test_target)\n"
      ],
      "metadata": {
        "id": "UFTvdGprH3VK"
      },
      "execution_count": null,
      "outputs": []
    },
    {
      "cell_type": "code",
      "source": [
        "import numpy as np\n",
        "\n",
        "input_arr=np.array(fish_data)\n",
        "target_arr=np.array(fish_target)\n",
        "\n",
        "print(input_arr)"
      ],
      "metadata": {
        "id": "bZ079WIRJnq8"
      },
      "execution_count": null,
      "outputs": []
    },
    {
      "cell_type": "code",
      "source": [
        "# (샘플 수, 특성 수) 출력\n",
        "print(input_arr.shape)\n"
      ],
      "metadata": {
        "id": "NxRtZVpvJzgM"
      },
      "execution_count": null,
      "outputs": []
    },
    {
      "cell_type": "code",
      "source": [
        "\n",
        "np.random.seed(42)\n",
        "\n",
        "# 0 ~48까지 1씩 증가하는 인덱스 만들기\n",
        "index=np.arange(49)\n",
        "\n",
        "# 인덱스 섞기\n",
        "np.random.shuffle(index)"
      ],
      "metadata": {
        "id": "Eim2x6n4J8nb"
      },
      "execution_count": null,
      "outputs": []
    },
    {
      "cell_type": "code",
      "source": [
        "print(index)"
      ],
      "metadata": {
        "id": "ENOPMHWWKdbR"
      },
      "execution_count": null,
      "outputs": []
    },
    {
      "cell_type": "code",
      "source": [
        "# 두 번째와 네 번째 샘플 선택\n",
        "print(input_arr[[1,3]])"
      ],
      "metadata": {
        "id": "Ii2GXAvnKjUX"
      },
      "execution_count": null,
      "outputs": []
    },
    {
      "cell_type": "code",
      "source": [
        "train_input=input_arr[index[:35]]\n",
        "train_target=target_arr[index[:35]]"
      ],
      "metadata": {
        "id": "cvel51jQKrPE"
      },
      "execution_count": null,
      "outputs": []
    },
    {
      "cell_type": "code",
      "source": [
        "print(input_arr[13],train_input[0])"
      ],
      "metadata": {
        "id": "4fM0oc8XK84I"
      },
      "execution_count": null,
      "outputs": []
    },
    {
      "cell_type": "code",
      "source": [
        "test_input=input_arr[index[35:]]\n",
        "test_target=target_arr[index[35:]]\n"
      ],
      "metadata": {
        "id": "7PXB7GdtLtWw"
      },
      "execution_count": null,
      "outputs": []
    },
    {
      "cell_type": "code",
      "source": [
        "import matplotlib.pyplot as plt\n",
        "\n",
        "plt.scatter(train_input[:,0],train_input[:,1])\n",
        "plt.scatter(test_input[:,0],test_input[:,1])\n",
        "\n",
        "plt.xlabel('length')\n",
        "plt.ylabel('wiehgt')\n",
        "\n",
        "plt.show()\n"
      ],
      "metadata": {
        "id": "rYKqoDOcL0fN"
      },
      "execution_count": null,
      "outputs": []
    },
    {
      "cell_type": "code",
      "source": [
        "kn.fit(train_input,train_target)\n"
      ],
      "metadata": {
        "id": "cyPmj5NvMN47"
      },
      "execution_count": null,
      "outputs": []
    },
    {
      "cell_type": "code",
      "source": [
        "kn.score(test_input,test_target)\n"
      ],
      "metadata": {
        "id": "iRzVu4LFMSXC"
      },
      "execution_count": null,
      "outputs": []
    },
    {
      "cell_type": "code",
      "source": [
        "kn.predict(test_input)"
      ],
      "metadata": {
        "id": "9sOBSdaHMZQy"
      },
      "execution_count": null,
      "outputs": []
    },
    {
      "cell_type": "code",
      "source": [
        "test_target"
      ],
      "metadata": {
        "id": "S3OCNPtMMeZy"
      },
      "execution_count": null,
      "outputs": []
    }
  ]
}