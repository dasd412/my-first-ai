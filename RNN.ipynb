{
  "nbformat": 4,
  "nbformat_minor": 0,
  "metadata": {
    "colab": {
      "provenance": [],
      "authorship_tag": "ABX9TyMASxL7K0JieZ8D0hZmgt9m",
      "include_colab_link": true
    },
    "kernelspec": {
      "name": "python3",
      "display_name": "Python 3"
    },
    "language_info": {
      "name": "python"
    }
  },
  "cells": [
    {
      "cell_type": "markdown",
      "metadata": {
        "id": "view-in-github",
        "colab_type": "text"
      },
      "source": [
        "<a href=\"https://colab.research.google.com/github/dasd412/my-first-ai/blob/main/RNN.ipynb\" target=\"_parent\"><img src=\"https://colab.research.google.com/assets/colab-badge.svg\" alt=\"Open In Colab\"/></a>"
      ]
    },
    {
      "cell_type": "markdown",
      "source": [
        "순차 데이터 = 텍스트나 시계열 데이터처럼 순서에 의미가 있는 데이터\n",
        "\n",
        "---\n",
        "\n",
        "\n",
        "순차 데이터는 순서를 유지하며 신경망에 주입해야 한다.\n",
        "\n",
        "\n",
        "---\n",
        "피드포워드 신경망 = 입력 데이터의 흐름이 앞으로만 전달되는 신경망 (완전 연결 신경망 , 합성곱 신경망)\n",
        "\n",
        "\n",
        "---\n",
        "\n",
        "순환 신경망(RNN) = 완전 연결 신경망에 이전 데이터의 처리 흐름을 순환하는 고리를 추가함. 이전 샘플에 대한 메모리를 가짐.\n",
        "\n"
      ],
      "metadata": {
        "id": "PUC_Ps6OTxe3"
      }
    },
    {
      "cell_type": "code",
      "execution_count": 1,
      "metadata": {
        "id": "hQZwLoJWTjfI"
      },
      "outputs": [],
      "source": [
        "from tensorflow.keras.datasets import imdb\n",
        "\n",
        "(train_input,train_target),(test_input,test_target)=imdb.load_data(num_words=300)"
      ]
    },
    {
      "cell_type": "code",
      "source": [
        "print(train_input.shape,test_input.shape)"
      ],
      "metadata": {
        "colab": {
          "base_uri": "https://localhost:8080/"
        },
        "id": "RI3SANuPYaNG",
        "outputId": "b6f8c9e5-90a7-4145-8dd5-b3550d52c8ac"
      },
      "execution_count": 2,
      "outputs": [
        {
          "output_type": "stream",
          "name": "stdout",
          "text": [
            "(25000,) (25000,)\n"
          ]
        }
      ]
    },
    {
      "cell_type": "code",
      "source": [
        "print(len(train_input[0]))"
      ],
      "metadata": {
        "colab": {
          "base_uri": "https://localhost:8080/"
        },
        "id": "Ufs9mC73YeYm",
        "outputId": "98695248-8540-4da0-d183-169ff2ef7937"
      },
      "execution_count": 3,
      "outputs": [
        {
          "output_type": "stream",
          "name": "stdout",
          "text": [
            "218\n"
          ]
        }
      ]
    },
    {
      "cell_type": "code",
      "source": [
        "print(len(train_input[1]))"
      ],
      "metadata": {
        "colab": {
          "base_uri": "https://localhost:8080/"
        },
        "id": "zKH8qfL3Yhs3",
        "outputId": "9a71d59c-58fe-45f8-bc9f-ac990b8619d2"
      },
      "execution_count": 4,
      "outputs": [
        {
          "output_type": "stream",
          "name": "stdout",
          "text": [
            "189\n"
          ]
        }
      ]
    },
    {
      "cell_type": "code",
      "source": [
        "print(train_input[0])"
      ],
      "metadata": {
        "colab": {
          "base_uri": "https://localhost:8080/"
        },
        "id": "JiZjqzc0Yj-y",
        "outputId": "80f34b93-bf4d-4359-b4d5-d88a67a46db3"
      },
      "execution_count": 5,
      "outputs": [
        {
          "output_type": "stream",
          "name": "stdout",
          "text": [
            "[1, 14, 22, 16, 43, 2, 2, 2, 2, 65, 2, 2, 66, 2, 4, 173, 36, 256, 5, 25, 100, 43, 2, 112, 50, 2, 2, 9, 35, 2, 284, 5, 150, 4, 172, 112, 167, 2, 2, 2, 39, 4, 172, 2, 2, 17, 2, 38, 13, 2, 4, 192, 50, 16, 6, 147, 2, 19, 14, 22, 4, 2, 2, 2, 4, 22, 71, 87, 12, 16, 43, 2, 38, 76, 15, 13, 2, 4, 22, 17, 2, 17, 12, 16, 2, 18, 2, 5, 62, 2, 12, 8, 2, 8, 106, 5, 4, 2, 2, 16, 2, 66, 2, 33, 4, 130, 12, 16, 38, 2, 5, 25, 124, 51, 36, 135, 48, 25, 2, 33, 6, 22, 12, 215, 28, 77, 52, 5, 14, 2, 16, 82, 2, 8, 4, 107, 117, 2, 15, 256, 4, 2, 7, 2, 5, 2, 36, 71, 43, 2, 2, 26, 2, 2, 46, 7, 4, 2, 2, 13, 104, 88, 4, 2, 15, 297, 98, 32, 2, 56, 26, 141, 6, 194, 2, 18, 4, 226, 22, 21, 134, 2, 26, 2, 5, 144, 30, 2, 18, 51, 36, 28, 224, 92, 25, 104, 4, 226, 65, 16, 38, 2, 88, 12, 16, 283, 5, 16, 2, 113, 103, 32, 15, 16, 2, 19, 178, 32]\n"
          ]
        }
      ]
    },
    {
      "cell_type": "code",
      "source": [
        "print(train_target[:20]) # 해결할 문제는 리뷰가 긍정인지 부정인지 판단하는 것"
      ],
      "metadata": {
        "colab": {
          "base_uri": "https://localhost:8080/"
        },
        "id": "18Ouh-LfYofD",
        "outputId": "2b57789b-f222-4a30-9eb5-50654d33a1e7"
      },
      "execution_count": 6,
      "outputs": [
        {
          "output_type": "stream",
          "name": "stdout",
          "text": [
            "[1 0 0 1 0 0 1 0 1 0 1 0 0 0 0 0 1 1 0 1]\n"
          ]
        }
      ]
    },
    {
      "cell_type": "code",
      "source": [
        "from sklearn.model_selection import train_test_split\n",
        "\n",
        "train_input,val_input, train_target,val_target=train_test_split(train_input,train_target,test_size=0.2,random_state=42)"
      ],
      "metadata": {
        "id": "ODFoh69hYtjc"
      },
      "execution_count": 7,
      "outputs": []
    },
    {
      "cell_type": "code",
      "source": [
        "# 각 리뷰의 길이를 계산해 넘파이 배열에 담기\n",
        "# 평균적인 리뷰의 길이, 가장 짧은 리뷰의 길이, 가장 긴 리뷰의 길이를 확인하기 위함\n",
        "\n",
        "import numpy as np\n",
        "\n",
        "lengths=np.array([len(x) for x in train_input])"
      ],
      "metadata": {
        "id": "LHkkIGCFZEVD"
      },
      "execution_count": 8,
      "outputs": []
    },
    {
      "cell_type": "code",
      "source": [
        "print(np.mean(lengths),np.median(lengths))"
      ],
      "metadata": {
        "colab": {
          "base_uri": "https://localhost:8080/"
        },
        "id": "TkJEgVMlZeGN",
        "outputId": "c4b32fd1-f9cf-4d69-bc09-b73b48332e53"
      },
      "execution_count": 9,
      "outputs": [
        {
          "output_type": "stream",
          "name": "stdout",
          "text": [
            "239.00925 178.0\n"
          ]
        }
      ]
    },
    {
      "cell_type": "code",
      "source": [
        "import matplotlib.pyplot as plt\n",
        "\n",
        "plt.hist(lengths)\n",
        "\n",
        "plt.xlabel('length')\n",
        "plt.ylabel('frequency')\n",
        "\n",
        "plt.show()"
      ],
      "metadata": {
        "colab": {
          "base_uri": "https://localhost:8080/",
          "height": 449
        },
        "id": "DrP_mkVlZktC",
        "outputId": "25d28fdb-5b79-4628-c5fe-8b066f83b953"
      },
      "execution_count": 10,
      "outputs": [
        {
          "output_type": "display_data",
          "data": {
            "text/plain": [
              "<Figure size 640x480 with 1 Axes>"
            ],
            "image/png": "[encoded data removed]"
          },
          "metadata": {}
        }
      ]
    },
    {
      "cell_type": "code",
      "source": [
        "# 시퀀스의 길이를 100으로 일정하게 맞추기 (100 넘으면 자르고, 100 이하면 패딩 추가)\n",
        "\n",
        "from tensorflow.keras.preprocessing.sequence import pad_sequences\n",
        "\n",
        "train_seq=pad_sequences(train_input,maxlen=100)"
      ],
      "metadata": {
        "id": "_0nvFG7dZv46"
      },
      "execution_count": 11,
      "outputs": []
    },
    {
      "cell_type": "code",
      "source": [
        "print(train_seq.shape)"
      ],
      "metadata": {
        "colab": {
          "base_uri": "https://localhost:8080/"
        },
        "id": "LMXFxPx2aGGJ",
        "outputId": "5c6e8af3-5451-4be1-8d73-cf5c65b5c342"
      },
      "execution_count": 12,
      "outputs": [
        {
          "output_type": "stream",
          "name": "stdout",
          "text": [
            "(20000, 100)\n"
          ]
        }
      ]
    },
    {
      "cell_type": "code",
      "source": [
        "print(train_seq[0])"
      ],
      "metadata": {
        "colab": {
          "base_uri": "https://localhost:8080/"
        },
        "id": "enicP97KaQj2",
        "outputId": "ebcbe988-904d-4237-a1d4-de938f46494f"
      },
      "execution_count": 13,
      "outputs": [
        {
          "output_type": "stream",
          "name": "stdout",
          "text": [
            "[ 10   4  20   9   2   2   2   5  45   6   2   2  33 269   8   2 142   2\n",
            "   5   2  17  73  17 204   5   2  19  55   2   2  92  66 104  14  20  93\n",
            "  76   2 151  33   4  58  12 188   2 151  12 215  69 224 142  73 237   6\n",
            "   2   7   2   2 188   2 103  14  31  10  10   2   7   2   5   2  80  91\n",
            "   2  30   2  34  14  20 151  50  26 131  49   2  84  46  50  37  80  79\n",
            "   6   2  46   7  14  20  10  10   2 158]\n"
          ]
        }
      ]
    },
    {
      "cell_type": "code",
      "source": [
        "print(train_input[0][-10:])"
      ],
      "metadata": {
        "colab": {
          "base_uri": "https://localhost:8080/"
        },
        "id": "zs4llAEJaXpe",
        "outputId": "a294d2c5-7b9e-4707-9eee-7fa848a65415"
      },
      "execution_count": 14,
      "outputs": [
        {
          "output_type": "stream",
          "name": "stdout",
          "text": [
            "[6, 2, 46, 7, 14, 20, 10, 10, 2, 158]\n"
          ]
        }
      ]
    },
    {
      "cell_type": "code",
      "source": [
        "print(train_seq[5])"
      ],
      "metadata": {
        "colab": {
          "base_uri": "https://localhost:8080/"
        },
        "id": "ANTBkt9WaeNy",
        "outputId": "073a7ae5-9e4c-412b-be55-9da221f5fe5a"
      },
      "execution_count": 15,
      "outputs": [
        {
          "output_type": "stream",
          "name": "stdout",
          "text": [
            "[  0   0   0   0   1   2 195  19  49   2   2 190   4   2   2   2 183  10\n",
            "  10  13  82  79   4   2  36  71 269   8   2  25  19  49   7   4   2   2\n",
            "   2   2   2  10  10  48  25  40   2  11   2   2  40   2   2   5   4   2\n",
            "   2  95  14 238  56 129   2  10  10  21   2  94   2   2   2   2  11 190\n",
            "  24   2   2   7  94 205   2  10  10  87   2  34  49   2   7   2   2   2\n",
            "   2   2 290   2  46  48  64  18   4   2]\n"
          ]
        }
      ]
    },
    {
      "cell_type": "code",
      "source": [
        "val_seq=pad_sequences(val_input,maxlen=100)"
      ],
      "metadata": {
        "id": "EZ5jIN5uarNk"
      },
      "execution_count": 16,
      "outputs": []
    },
    {
      "cell_type": "code",
      "source": [
        "from tensorflow import keras\n",
        "\n",
        "model=keras.Sequential()\n",
        "model.add(keras.layers.SimpleRNN(8,input_shape=(100,300))) # 300인 이유는 입력 길이 300에 대해 원-핫 인코딩을 적용했기 때문.\n",
        "model.add(keras.layers.Dense(1,activation='sigmoid'))"
      ],
      "metadata": {
        "id": "RjSc2pefavad"
      },
      "execution_count": 17,
      "outputs": []
    },
    {
      "cell_type": "code",
      "source": [
        "train_oh=keras.utils.to_categorical(train_seq)"
      ],
      "metadata": {
        "id": "62_NfRlPbQB2"
      },
      "execution_count": 18,
      "outputs": []
    },
    {
      "cell_type": "code",
      "source": [
        "print(train_oh.shape)"
      ],
      "metadata": {
        "colab": {
          "base_uri": "https://localhost:8080/"
        },
        "id": "p0_1c1ddbwM1",
        "outputId": "8edb5df8-3b97-46bf-d769-de081d9e6e40"
      },
      "execution_count": 19,
      "outputs": [
        {
          "output_type": "stream",
          "name": "stdout",
          "text": [
            "(20000, 100, 300)\n"
          ]
        }
      ]
    },
    {
      "cell_type": "code",
      "source": [
        "print(train_oh[0][0][:12])"
      ],
      "metadata": {
        "colab": {
          "base_uri": "https://localhost:8080/"
        },
        "id": "bMYRyFqEb4hk",
        "outputId": "19396e9a-3c0b-4d75-91a7-8267afab04a3"
      },
      "execution_count": 20,
      "outputs": [
        {
          "output_type": "stream",
          "name": "stdout",
          "text": [
            "[0. 0. 0. 0. 0. 0. 0. 0. 0. 0. 1. 0.]\n"
          ]
        }
      ]
    },
    {
      "cell_type": "code",
      "source": [
        "print(np.sum(train_oh[0][0]))"
      ],
      "metadata": {
        "colab": {
          "base_uri": "https://localhost:8080/"
        },
        "id": "FcB5g-fub77_",
        "outputId": "2df3d871-0eba-45ac-c057-e467a338cfa5"
      },
      "execution_count": 21,
      "outputs": [
        {
          "output_type": "stream",
          "name": "stdout",
          "text": [
            "1.0\n"
          ]
        }
      ]
    },
    {
      "cell_type": "code",
      "source": [
        "val_oh=keras.utils.to_categorical(val_seq)"
      ],
      "metadata": {
        "id": "kecmgliVcCD-"
      },
      "execution_count": 22,
      "outputs": []
    },
    {
      "cell_type": "code",
      "source": [
        "model.summary()"
      ],
      "metadata": {
        "colab": {
          "base_uri": "https://localhost:8080/"
        },
        "id": "OZXDr_p0cItx",
        "outputId": "b3b63540-b4a9-4c99-f4d4-3a42563577b0"
      },
      "execution_count": 23,
      "outputs": [
        {
          "output_type": "stream",
          "name": "stdout",
          "text": [
            "Model: \"sequential\"\n",
            "_________________________________________________________________\n",
            " Layer (type)                Output Shape              Param #   \n",
            "=================================================================\n",
            " simple_rnn (SimpleRNN)      (None, 8)                 2472      \n",
            "                                                                 \n",
            " dense (Dense)               (None, 1)                 9         \n",
            "                                                                 \n",
            "=================================================================\n",
            "Total params: 2481 (9.69 KB)\n",
            "Trainable params: 2481 (9.69 KB)\n",
            "Non-trainable params: 0 (0.00 Byte)\n",
            "_________________________________________________________________\n"
          ]
        }
      ]
    },
    {
      "cell_type": "code",
      "source": [
        "rmsprop = keras.optimizers.RMSprop(learning_rate=1e-4)\n",
        "model.compile(optimizer=rmsprop, loss='binary_crossentropy',\n",
        "              metrics=['accuracy'])\n",
        "\n",
        "checkpoint_cb = keras.callbacks.ModelCheckpoint('best-simplernn-model.h5',\n",
        "                                                save_best_only=True)\n",
        "early_stopping_cb = keras.callbacks.EarlyStopping(patience=3,\n",
        "                                                  restore_best_weights=True)\n",
        "\n",
        "history = model.fit(train_oh, train_target, epochs=50, batch_size=64,\n",
        "                    validation_data=(val_oh, val_target),\n",
        "                    callbacks=[checkpoint_cb, early_stopping_cb])"
      ],
      "metadata": {
        "colab": {
          "base_uri": "https://localhost:8080/"
        },
        "id": "m9i2zsrUcpPj",
        "outputId": "ad30aa63-76ed-4abc-fbed-234e5d37c528"
      },
      "execution_count": 24,
      "outputs": [
        {
          "output_type": "stream",
          "name": "stdout",
          "text": [
            "Epoch 1/50\n",
            "313/313 [==============================] - 12s 35ms/step - loss: 0.7047 - accuracy: 0.4961 - val_loss: 0.7005 - val_accuracy: 0.4976\n",
            "Epoch 2/50\n",
            "  6/313 [..............................] - ETA: 7s - loss: 0.6985 - accuracy: 0.5026"
          ]
        },
        {
          "output_type": "stream",
          "name": "stderr",
          "text": [
            "/usr/local/lib/python3.10/dist-packages/keras/src/engine/training.py:3000: UserWarning: You are saving your model as an HDF5 file via `model.save()`. This file format is considered legacy. We recommend using instead the native Keras format, e.g. `model.save('my_model.keras')`.\n",
            "  saving_api.save_model(\n"
          ]
        },
        {
          "output_type": "stream",
          "name": "stdout",
          "text": [
            "313/313 [==============================] - 11s 34ms/step - loss: 0.6990 - accuracy: 0.5018 - val_loss: 0.6970 - val_accuracy: 0.5070\n",
            "Epoch 3/50\n",
            "313/313 [==============================] - 9s 29ms/step - loss: 0.6953 - accuracy: 0.5109 - val_loss: 0.6942 - val_accuracy: 0.5142\n",
            "Epoch 4/50\n",
            "313/313 [==============================] - 9s 30ms/step - loss: 0.6904 - accuracy: 0.5306 - val_loss: 0.6885 - val_accuracy: 0.5346\n",
            "Epoch 5/50\n",
            "313/313 [==============================] - 9s 30ms/step - loss: 0.6821 - accuracy: 0.5635 - val_loss: 0.6812 - val_accuracy: 0.5658\n",
            "Epoch 6/50\n",
            "313/313 [==============================] - 10s 32ms/step - loss: 0.6734 - accuracy: 0.5921 - val_loss: 0.6722 - val_accuracy: 0.5880\n",
            "Epoch 7/50\n",
            "313/313 [==============================] - 10s 31ms/step - loss: 0.6632 - accuracy: 0.6210 - val_loss: 0.6638 - val_accuracy: 0.6120\n",
            "Epoch 8/50\n",
            "313/313 [==============================] - 10s 32ms/step - loss: 0.6522 - accuracy: 0.6398 - val_loss: 0.6512 - val_accuracy: 0.6396\n",
            "Epoch 9/50\n",
            "313/313 [==============================] - 10s 31ms/step - loss: 0.6409 - accuracy: 0.6574 - val_loss: 0.6405 - val_accuracy: 0.6590\n",
            "Epoch 10/50\n",
            "313/313 [==============================] - 10s 31ms/step - loss: 0.6293 - accuracy: 0.6714 - val_loss: 0.6300 - val_accuracy: 0.6696\n",
            "Epoch 11/50\n",
            "313/313 [==============================] - 9s 27ms/step - loss: 0.6176 - accuracy: 0.6854 - val_loss: 0.6188 - val_accuracy: 0.6854\n",
            "Epoch 12/50\n",
            "313/313 [==============================] - 9s 29ms/step - loss: 0.6062 - accuracy: 0.6984 - val_loss: 0.6086 - val_accuracy: 0.6930\n",
            "Epoch 13/50\n",
            "313/313 [==============================] - 10s 31ms/step - loss: 0.5955 - accuracy: 0.7063 - val_loss: 0.6000 - val_accuracy: 0.6964\n",
            "Epoch 14/50\n",
            "313/313 [==============================] - 9s 30ms/step - loss: 0.5852 - accuracy: 0.7159 - val_loss: 0.5907 - val_accuracy: 0.7054\n",
            "Epoch 15/50\n",
            "313/313 [==============================] - 8s 26ms/step - loss: 0.5751 - accuracy: 0.7229 - val_loss: 0.5810 - val_accuracy: 0.7132\n",
            "Epoch 16/50\n",
            "313/313 [==============================] - 10s 31ms/step - loss: 0.5660 - accuracy: 0.7285 - val_loss: 0.5731 - val_accuracy: 0.7162\n",
            "Epoch 17/50\n",
            "313/313 [==============================] - 9s 30ms/step - loss: 0.5579 - accuracy: 0.7341 - val_loss: 0.5662 - val_accuracy: 0.7210\n",
            "Epoch 18/50\n",
            "313/313 [==============================] - 9s 28ms/step - loss: 0.5503 - accuracy: 0.7380 - val_loss: 0.5585 - val_accuracy: 0.7262\n",
            "Epoch 19/50\n",
            "313/313 [==============================] - 9s 30ms/step - loss: 0.5440 - accuracy: 0.7422 - val_loss: 0.5515 - val_accuracy: 0.7300\n",
            "Epoch 20/50\n",
            "313/313 [==============================] - 10s 31ms/step - loss: 0.5375 - accuracy: 0.7441 - val_loss: 0.5477 - val_accuracy: 0.7342\n",
            "Epoch 21/50\n",
            "313/313 [==============================] - 10s 31ms/step - loss: 0.5325 - accuracy: 0.7482 - val_loss: 0.5427 - val_accuracy: 0.7350\n",
            "Epoch 22/50\n",
            "313/313 [==============================] - 9s 27ms/step - loss: 0.5280 - accuracy: 0.7509 - val_loss: 0.5376 - val_accuracy: 0.7406\n",
            "Epoch 23/50\n",
            "313/313 [==============================] - 10s 31ms/step - loss: 0.5236 - accuracy: 0.7541 - val_loss: 0.5374 - val_accuracy: 0.7384\n",
            "Epoch 24/50\n",
            "313/313 [==============================] - 10s 31ms/step - loss: 0.5197 - accuracy: 0.7539 - val_loss: 0.5331 - val_accuracy: 0.7396\n",
            "Epoch 25/50\n",
            "313/313 [==============================] - 9s 30ms/step - loss: 0.5164 - accuracy: 0.7559 - val_loss: 0.5276 - val_accuracy: 0.7450\n",
            "Epoch 26/50\n",
            "313/313 [==============================] - 9s 27ms/step - loss: 0.5130 - accuracy: 0.7602 - val_loss: 0.5284 - val_accuracy: 0.7442\n",
            "Epoch 27/50\n",
            "313/313 [==============================] - 11s 36ms/step - loss: 0.5100 - accuracy: 0.7616 - val_loss: 0.5218 - val_accuracy: 0.7466\n",
            "Epoch 28/50\n",
            "313/313 [==============================] - 10s 31ms/step - loss: 0.5076 - accuracy: 0.7616 - val_loss: 0.5222 - val_accuracy: 0.7478\n",
            "Epoch 29/50\n",
            "313/313 [==============================] - 8s 27ms/step - loss: 0.5056 - accuracy: 0.7617 - val_loss: 0.5189 - val_accuracy: 0.7494\n",
            "Epoch 30/50\n",
            "313/313 [==============================] - 10s 31ms/step - loss: 0.5032 - accuracy: 0.7645 - val_loss: 0.5171 - val_accuracy: 0.7488\n",
            "Epoch 31/50\n",
            "313/313 [==============================] - 10s 31ms/step - loss: 0.5010 - accuracy: 0.7634 - val_loss: 0.5174 - val_accuracy: 0.7506\n",
            "Epoch 32/50\n",
            "313/313 [==============================] - 10s 31ms/step - loss: 0.4993 - accuracy: 0.7649 - val_loss: 0.5151 - val_accuracy: 0.7492\n",
            "Epoch 33/50\n",
            "313/313 [==============================] - 9s 27ms/step - loss: 0.4977 - accuracy: 0.7649 - val_loss: 0.5149 - val_accuracy: 0.7490\n",
            "Epoch 34/50\n",
            "313/313 [==============================] - 10s 32ms/step - loss: 0.4961 - accuracy: 0.7669 - val_loss: 0.5149 - val_accuracy: 0.7512\n",
            "Epoch 35/50\n",
            "313/313 [==============================] - 10s 31ms/step - loss: 0.4946 - accuracy: 0.7668 - val_loss: 0.5145 - val_accuracy: 0.7550\n",
            "Epoch 36/50\n",
            "313/313 [==============================] - 9s 29ms/step - loss: 0.4940 - accuracy: 0.7685 - val_loss: 0.5124 - val_accuracy: 0.7548\n",
            "Epoch 37/50\n",
            "313/313 [==============================] - 9s 28ms/step - loss: 0.4923 - accuracy: 0.7697 - val_loss: 0.5115 - val_accuracy: 0.7510\n",
            "Epoch 38/50\n",
            "313/313 [==============================] - 11s 36ms/step - loss: 0.4915 - accuracy: 0.7682 - val_loss: 0.5101 - val_accuracy: 0.7544\n",
            "Epoch 39/50\n",
            "313/313 [==============================] - 10s 31ms/step - loss: 0.4905 - accuracy: 0.7686 - val_loss: 0.5157 - val_accuracy: 0.7540\n",
            "Epoch 40/50\n",
            "313/313 [==============================] - 9s 30ms/step - loss: 0.4896 - accuracy: 0.7704 - val_loss: 0.5090 - val_accuracy: 0.7502\n",
            "Epoch 41/50\n",
            "313/313 [==============================] - 8s 27ms/step - loss: 0.4887 - accuracy: 0.7691 - val_loss: 0.5088 - val_accuracy: 0.7500\n",
            "Epoch 42/50\n",
            "313/313 [==============================] - 10s 31ms/step - loss: 0.4874 - accuracy: 0.7714 - val_loss: 0.5133 - val_accuracy: 0.7544\n",
            "Epoch 43/50\n",
            "313/313 [==============================] - 10s 31ms/step - loss: 0.4867 - accuracy: 0.7714 - val_loss: 0.5083 - val_accuracy: 0.7514\n",
            "Epoch 44/50\n",
            "313/313 [==============================] - 11s 34ms/step - loss: 0.4858 - accuracy: 0.7720 - val_loss: 0.5087 - val_accuracy: 0.7520\n",
            "Epoch 45/50\n",
            "313/313 [==============================] - 8s 27ms/step - loss: 0.4847 - accuracy: 0.7714 - val_loss: 0.5069 - val_accuracy: 0.7540\n",
            "Epoch 46/50\n",
            "313/313 [==============================] - 11s 35ms/step - loss: 0.4839 - accuracy: 0.7735 - val_loss: 0.5094 - val_accuracy: 0.7554\n",
            "Epoch 47/50\n",
            "313/313 [==============================] - 10s 31ms/step - loss: 0.4832 - accuracy: 0.7734 - val_loss: 0.5061 - val_accuracy: 0.7542\n",
            "Epoch 48/50\n",
            "313/313 [==============================] - 9s 27ms/step - loss: 0.4822 - accuracy: 0.7761 - val_loss: 0.5062 - val_accuracy: 0.7536\n",
            "Epoch 49/50\n",
            "313/313 [==============================] - 9s 29ms/step - loss: 0.4815 - accuracy: 0.7735 - val_loss: 0.5054 - val_accuracy: 0.7542\n",
            "Epoch 50/50\n",
            "313/313 [==============================] - 10s 32ms/step - loss: 0.4810 - accuracy: 0.7752 - val_loss: 0.5054 - val_accuracy: 0.7560\n"
          ]
        }
      ]
    },
    {
      "cell_type": "code",
      "source": [
        "plt.plot(history.history['loss'])\n",
        "plt.plot(history.history['val_loss'])\n",
        "\n",
        "plt.xlabel('epoch')\n",
        "plt.ylabel('loss')\n",
        "\n",
        "plt.legend(['train','val'])\n",
        "\n",
        "plt.show()"
      ],
      "metadata": {
        "colab": {
          "base_uri": "https://localhost:8080/",
          "height": 449
        },
        "id": "sHFbZlCvhuDI",
        "outputId": "3b493d57-c484-4a66-9556-7838eef5abd8"
      },
      "execution_count": 25,
      "outputs": [
        {
          "output_type": "display_data",
          "data": {
            "text/plain": [
              "<Figure size 640x480 with 1 Axes>"
            ],
            "image/png": "[encoded data removed]"
          },
          "metadata": {}
        }
      ]
    },
    {
      "cell_type": "code",
      "source": [
        "# 원 - 핫 인코딩의 단점은 입력데이터가 엄청 커진 다는 것이다.\n",
        "# word를 500으로 했었더니 사용가능한 RAM을 모두 소진했다고 나왔다. 그래서 300으로 줄였음.\n",
        "\n",
        "print(train_seq.nbytes,train_oh.nbytes)"
      ],
      "metadata": {
        "colab": {
          "base_uri": "https://localhost:8080/"
        },
        "id": "kbR-78jlh9Fr",
        "outputId": "93284840-c18e-48f1-bb9b-f4eb662a62ff"
      },
      "execution_count": 26,
      "outputs": [
        {
          "output_type": "stream",
          "name": "stdout",
          "text": [
            "8000000 2400000000\n"
          ]
        }
      ]
    },
    {
      "cell_type": "code",
      "source": [
        "model2=keras.Sequential()\n",
        "model2.add(keras.layers.Embedding(300,16,input_length=100))\n",
        "model2.add(keras.layers.SimpleRNN(8))\n",
        "model2.add(keras.layers.Dense(1,activation='sigmoid'))"
      ],
      "metadata": {
        "id": "6Q_7WQsxiLyB"
      },
      "execution_count": 28,
      "outputs": []
    },
    {
      "cell_type": "code",
      "source": [
        "model2.summary()"
      ],
      "metadata": {
        "colab": {
          "base_uri": "https://localhost:8080/"
        },
        "id": "mYJThzVlil9h",
        "outputId": "cbcd7e62-9d4f-4b4d-8b77-17ad95f7db12"
      },
      "execution_count": 29,
      "outputs": [
        {
          "output_type": "stream",
          "name": "stdout",
          "text": [
            "Model: \"sequential_2\"\n",
            "_________________________________________________________________\n",
            " Layer (type)                Output Shape              Param #   \n",
            "=================================================================\n",
            " embedding_1 (Embedding)     (None, 100, 16)           4800      \n",
            "                                                                 \n",
            " simple_rnn_2 (SimpleRNN)    (None, 8)                 200       \n",
            "                                                                 \n",
            " dense_2 (Dense)             (None, 1)                 9         \n",
            "                                                                 \n",
            "=================================================================\n",
            "Total params: 5009 (19.57 KB)\n",
            "Trainable params: 5009 (19.57 KB)\n",
            "Non-trainable params: 0 (0.00 Byte)\n",
            "_________________________________________________________________\n"
          ]
        }
      ]
    },
    {
      "cell_type": "code",
      "source": [
        "rmsprop = keras.optimizers.RMSprop(learning_rate=1e-4)\n",
        "model2.compile(optimizer=rmsprop, loss='binary_crossentropy',\n",
        "              metrics=['accuracy'])\n",
        "\n",
        "checkpoint_cb = keras.callbacks.ModelCheckpoint('best-simplernn-model.h5',\n",
        "                                                save_best_only=True)\n",
        "early_stopping_cb = keras.callbacks.EarlyStopping(patience=3,\n",
        "                                                  restore_best_weights=True)\n",
        "\n",
        "history = model2.fit(train_seq, train_target, epochs=50, batch_size=64,\n",
        "                    validation_data=(val_seq, val_target),\n",
        "                    callbacks=[checkpoint_cb, early_stopping_cb])"
      ],
      "metadata": {
        "colab": {
          "base_uri": "https://localhost:8080/"
        },
        "id": "QjfptOnzitrV",
        "outputId": "37fd7416-5b8c-43bf-eaee-43ef6cdaeffa"
      },
      "execution_count": 31,
      "outputs": [
        {
          "output_type": "stream",
          "name": "stdout",
          "text": [
            "Epoch 1/50\n",
            "313/313 [==============================] - 9s 22ms/step - loss: 0.6926 - accuracy: 0.5149 - val_loss: 0.6913 - val_accuracy: 0.5298\n",
            "Epoch 2/50\n",
            "  7/313 [..............................] - ETA: 5s - loss: 0.6931 - accuracy: 0.5045"
          ]
        },
        {
          "output_type": "stream",
          "name": "stderr",
          "text": [
            "/usr/local/lib/python3.10/dist-packages/keras/src/engine/training.py:3000: UserWarning: You are saving your model as an HDF5 file via `model.save()`. This file format is considered legacy. We recommend using instead the native Keras format, e.g. `model.save('my_model.keras')`.\n",
            "  saving_api.save_model(\n"
          ]
        },
        {
          "output_type": "stream",
          "name": "stdout",
          "text": [
            "313/313 [==============================] - 9s 29ms/step - loss: 0.6839 - accuracy: 0.5837 - val_loss: 0.6808 - val_accuracy: 0.6036\n",
            "Epoch 3/50\n",
            "313/313 [==============================] - 7s 23ms/step - loss: 0.6737 - accuracy: 0.6299 - val_loss: 0.6715 - val_accuracy: 0.6390\n",
            "Epoch 4/50\n",
            "313/313 [==============================] - 7s 23ms/step - loss: 0.6623 - accuracy: 0.6630 - val_loss: 0.6604 - val_accuracy: 0.6642\n",
            "Epoch 5/50\n",
            "313/313 [==============================] - 8s 26ms/step - loss: 0.6507 - accuracy: 0.6808 - val_loss: 0.6489 - val_accuracy: 0.6840\n",
            "Epoch 6/50\n",
            "313/313 [==============================] - 7s 22ms/step - loss: 0.6394 - accuracy: 0.6963 - val_loss: 0.6388 - val_accuracy: 0.6980\n",
            "Epoch 7/50\n",
            "313/313 [==============================] - 8s 26ms/step - loss: 0.6288 - accuracy: 0.7057 - val_loss: 0.6297 - val_accuracy: 0.7002\n",
            "Epoch 8/50\n",
            "313/313 [==============================] - 7s 22ms/step - loss: 0.6183 - accuracy: 0.7153 - val_loss: 0.6206 - val_accuracy: 0.7094\n",
            "Epoch 9/50\n",
            "313/313 [==============================] - 8s 25ms/step - loss: 0.6089 - accuracy: 0.7218 - val_loss: 0.6101 - val_accuracy: 0.7196\n",
            "Epoch 10/50\n",
            "313/313 [==============================] - 8s 26ms/step - loss: 0.5993 - accuracy: 0.7273 - val_loss: 0.6051 - val_accuracy: 0.7118\n",
            "Epoch 11/50\n",
            "313/313 [==============================] - 7s 21ms/step - loss: 0.5898 - accuracy: 0.7340 - val_loss: 0.5951 - val_accuracy: 0.7162\n",
            "Epoch 12/50\n",
            "313/313 [==============================] - 8s 26ms/step - loss: 0.5804 - accuracy: 0.7394 - val_loss: 0.5889 - val_accuracy: 0.7256\n",
            "Epoch 13/50\n",
            "313/313 [==============================] - 8s 27ms/step - loss: 0.5717 - accuracy: 0.7425 - val_loss: 0.5783 - val_accuracy: 0.7260\n",
            "Epoch 14/50\n",
            "313/313 [==============================] - 9s 29ms/step - loss: 0.5632 - accuracy: 0.7469 - val_loss: 0.5732 - val_accuracy: 0.7306\n",
            "Epoch 15/50\n",
            "313/313 [==============================] - 8s 26ms/step - loss: 0.5550 - accuracy: 0.7500 - val_loss: 0.5651 - val_accuracy: 0.7308\n",
            "Epoch 16/50\n",
            "313/313 [==============================] - 7s 21ms/step - loss: 0.5474 - accuracy: 0.7537 - val_loss: 0.5583 - val_accuracy: 0.7392\n",
            "Epoch 17/50\n",
            "313/313 [==============================] - 8s 25ms/step - loss: 0.5399 - accuracy: 0.7581 - val_loss: 0.5511 - val_accuracy: 0.7376\n",
            "Epoch 18/50\n",
            "313/313 [==============================] - 7s 24ms/step - loss: 0.5334 - accuracy: 0.7606 - val_loss: 0.5465 - val_accuracy: 0.7348\n",
            "Epoch 19/50\n",
            "313/313 [==============================] - 7s 23ms/step - loss: 0.5268 - accuracy: 0.7648 - val_loss: 0.5416 - val_accuracy: 0.7402\n",
            "Epoch 20/50\n",
            "313/313 [==============================] - 8s 26ms/step - loss: 0.5213 - accuracy: 0.7646 - val_loss: 0.5380 - val_accuracy: 0.7416\n",
            "Epoch 21/50\n",
            "313/313 [==============================] - 7s 22ms/step - loss: 0.5165 - accuracy: 0.7678 - val_loss: 0.5346 - val_accuracy: 0.7428\n",
            "Epoch 22/50\n",
            "313/313 [==============================] - 8s 25ms/step - loss: 0.5117 - accuracy: 0.7686 - val_loss: 0.5325 - val_accuracy: 0.7412\n",
            "Epoch 23/50\n",
            "313/313 [==============================] - 7s 22ms/step - loss: 0.5076 - accuracy: 0.7702 - val_loss: 0.5308 - val_accuracy: 0.7424\n",
            "Epoch 24/50\n",
            "313/313 [==============================] - 8s 26ms/step - loss: 0.5035 - accuracy: 0.7717 - val_loss: 0.5267 - val_accuracy: 0.7432\n",
            "Epoch 25/50\n",
            "313/313 [==============================] - 8s 26ms/step - loss: 0.5002 - accuracy: 0.7724 - val_loss: 0.5249 - val_accuracy: 0.7440\n",
            "Epoch 26/50\n",
            "313/313 [==============================] - 7s 22ms/step - loss: 0.4974 - accuracy: 0.7727 - val_loss: 0.5246 - val_accuracy: 0.7430\n",
            "Epoch 27/50\n",
            "313/313 [==============================] - 8s 26ms/step - loss: 0.4945 - accuracy: 0.7753 - val_loss: 0.5230 - val_accuracy: 0.7454\n",
            "Epoch 28/50\n",
            "313/313 [==============================] - 7s 22ms/step - loss: 0.4921 - accuracy: 0.7765 - val_loss: 0.5229 - val_accuracy: 0.7442\n",
            "Epoch 29/50\n",
            "313/313 [==============================] - 8s 26ms/step - loss: 0.4893 - accuracy: 0.7765 - val_loss: 0.5207 - val_accuracy: 0.7440\n",
            "Epoch 30/50\n",
            "313/313 [==============================] - 8s 26ms/step - loss: 0.4874 - accuracy: 0.7765 - val_loss: 0.5197 - val_accuracy: 0.7454\n",
            "Epoch 31/50\n",
            "313/313 [==============================] - 7s 21ms/step - loss: 0.4852 - accuracy: 0.7771 - val_loss: 0.5253 - val_accuracy: 0.7426\n",
            "Epoch 32/50\n",
            "313/313 [==============================] - 8s 26ms/step - loss: 0.4834 - accuracy: 0.7802 - val_loss: 0.5213 - val_accuracy: 0.7442\n",
            "Epoch 33/50\n",
            "313/313 [==============================] - 7s 22ms/step - loss: 0.4819 - accuracy: 0.7807 - val_loss: 0.5191 - val_accuracy: 0.7450\n",
            "Epoch 34/50\n",
            "313/313 [==============================] - 8s 26ms/step - loss: 0.4797 - accuracy: 0.7816 - val_loss: 0.5222 - val_accuracy: 0.7432\n",
            "Epoch 35/50\n",
            "313/313 [==============================] - 7s 23ms/step - loss: 0.4783 - accuracy: 0.7812 - val_loss: 0.5198 - val_accuracy: 0.7440\n",
            "Epoch 36/50\n",
            "313/313 [==============================] - 9s 27ms/step - loss: 0.4767 - accuracy: 0.7845 - val_loss: 0.5210 - val_accuracy: 0.7436\n"
          ]
        }
      ]
    },
    {
      "cell_type": "code",
      "source": [
        "plt.plot(history.history['loss'])\n",
        "plt.plot(history.history['val_loss'])\n",
        "\n",
        "plt.xlabel('epoch')\n",
        "plt.ylabel('loss')\n",
        "\n",
        "plt.legend(['train','val'])\n",
        "\n",
        "plt.show()"
      ],
      "metadata": {
        "colab": {
          "base_uri": "https://localhost:8080/",
          "height": 450
        },
        "id": "MIsh66izkSb4",
        "outputId": "0ddd289e-f631-4e38-9ac1-be34778bfba2"
      },
      "execution_count": 32,
      "outputs": [
        {
          "output_type": "display_data",
          "data": {
            "text/plain": [
              "<Figure size 640x480 with 1 Axes>"
            ],
            "image/png": "[encoded data removed]"
          },
          "metadata": {}
        }
      ]
    }
  ]
}