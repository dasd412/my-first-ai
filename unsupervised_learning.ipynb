{
  "nbformat": 4,
  "nbformat_minor": 0,
  "metadata": {
    "colab": {
      "private_outputs": true,
      "provenance": [],
      "authorship_tag": "ABX9TyP7WlMsyu8SGpMdxAoDq3MD",
      "include_colab_link": true
    },
    "kernelspec": {
      "name": "python3",
      "display_name": "Python 3"
    },
    "language_info": {
      "name": "python"
    }
  },
  "cells": [
    {
      "cell_type": "markdown",
      "metadata": {
        "id": "view-in-github",
        "colab_type": "text"
      },
      "source": [
        "<a href=\"https://colab.research.google.com/github/dasd412/my-first-ai/blob/main/unsupervised_learning.ipynb\" target=\"_parent\"><img src=\"https://colab.research.google.com/assets/colab-badge.svg\" alt=\"Open In Colab\"/></a>"
      ]
    },
    {
      "cell_type": "code",
      "execution_count": null,
      "metadata": {
        "id": "p8gVE8DrgfdF"
      },
      "outputs": [],
      "source": [
        "# 타깃이 없을 떄 사용하는 머신러닝 알고리즘을 '비지도 학습'이라고 한다.\n",
        "# 즉, 사람이 가르쳐주지 않아도 데이터에 있는 무언가를 학습하는 것이다.\n",
        "!wget https://bit.ly/fruits_300_data -O fruits_300.npy"
      ]
    },
    {
      "cell_type": "code",
      "source": [
        "import numpy as np\n",
        "import matplotlib.pyplot as plt"
      ],
      "metadata": {
        "id": "1u-tCswJkNeu"
      },
      "execution_count": null,
      "outputs": []
    },
    {
      "cell_type": "code",
      "source": [
        "fruits=np.load('fruits_300.npy')"
      ],
      "metadata": {
        "id": "GYUvJaovkmHZ"
      },
      "execution_count": null,
      "outputs": []
    },
    {
      "cell_type": "code",
      "source": [
        "print(fruits.shape) # (샘플의 개수, 이미지 높이, 이미지 너비)"
      ],
      "metadata": {
        "id": "XURSMyAFl-Oj"
      },
      "execution_count": null,
      "outputs": []
    },
    {
      "cell_type": "code",
      "source": [
        "print(fruits[0,0,:]) # 첫 번째 이미지의 첫 번째 행 모두 선택"
      ],
      "metadata": {
        "id": "ulf0UIMTmBmm"
      },
      "execution_count": null,
      "outputs": []
    },
    {
      "cell_type": "code",
      "source": [
        "plt.imshow(fruits[0],cmap='gray')\n",
        "plt.show()"
      ],
      "metadata": {
        "id": "rzr5_wRQmf9f"
      },
      "execution_count": null,
      "outputs": []
    },
    {
      "cell_type": "code",
      "source": [
        "plt.imshow(fruits[0],cmap='gray_r')\n",
        "plt.show() # 밝은 부분이 0에 가까운 값이고, 짙은 부분이 255에 가까운 값이다."
      ],
      "metadata": {
        "id": "t6QkYHaNmsF8"
      },
      "execution_count": null,
      "outputs": []
    },
    {
      "cell_type": "code",
      "source": [
        "fig,axs=plt.subplots(1,2)# subplots()를 사용하면 여러개의 그래프를 배열처럼 쌓을 수 있다. (행,열) 여기서는 하나의 행과 2개의 열 지정\n",
        "\n",
        "axs[0].imshow(fruits[100],cmap='gray_r')\n",
        "axs[1].imshow(fruits[200],cmap='gray_r')\n",
        "\n",
        "plt.show()"
      ],
      "metadata": {
        "id": "ENJbUIRZm-o2"
      },
      "execution_count": null,
      "outputs": []
    },
    {
      "cell_type": "code",
      "source": [
        "# 100 * 100 이차원 배열은 1*1000 이차원 배열로 변환 (계산 편의를 위함)\n",
        "# 100개씩 사과, 파인애플, 바나나 순서대로 지정이 되어 있음(실습 편의를 위해 이미 되있는 것임.)\n",
        "apple=fruits[0:100].reshape(-1,100*100)\n",
        "pineapple=fruits[100:200].reshape(-1,100*100)\n",
        "banana=fruits[200:300].reshape(-1,100*100)"
      ],
      "metadata": {
        "id": "8bOhuVsGnYGT"
      },
      "execution_count": null,
      "outputs": []
    },
    {
      "cell_type": "code",
      "source": [
        "print(apple.shape)"
      ],
      "metadata": {
        "id": "uPB-M60goSB-"
      },
      "execution_count": null,
      "outputs": []
    },
    {
      "cell_type": "code",
      "source": [
        "# 배열에 들어있는 샘플의 픽셀 평균값 계산\n",
        "# 샘플마다 픽셀 평균값을 계산해야 하므로 mean()메서드가 평균을 계산할 축을 지정해야 함.\n",
        "print(apple.mean(axis=1)) # axis=0이면 행을 축으로, axis=1이면 열을 축으로 함."
      ],
      "metadata": {
        "id": "dp36lylqoUgT"
      },
      "execution_count": null,
      "outputs": []
    },
    {
      "cell_type": "code",
      "source": [
        "# 히스토그램 그리기\n",
        "plt.hist(np.mean(apple,axis=1),alpha=0.8)\n",
        "plt.hist(np.mean(pineapple,axis=1),alpha=0.8)\n",
        "plt.hist(np.mean(banana,axis=1),alpha=0.8)\n",
        "\n",
        "plt.legend(['apple','pineapple','banana'])\n",
        "plt.show() # 바나나는 사진에서 차지하는 영역이 작기 때문에 픽셀 평균값이 작다."
      ],
      "metadata": {
        "id": "q48NI55Uoq1d"
      },
      "execution_count": null,
      "outputs": []
    },
    {
      "cell_type": "code",
      "source": [
        "# 이번에는 샘플의 평균값이 아니라, 픽셀별 평균값으로 비교해보기\n",
        "fig,axs=plt.subplots(1,3,figsize=(20,5))\n",
        "axs[0].bar(range(10000),np.mean(apple,axis=0)) # axis=0으로 하면 픽셀의 평균 계산 가능\n",
        "axs[1].bar(range(10000),np.mean(pineapple,axis=0))\n",
        "axs[2].bar(range(10000),np.mean(banana,axis=0))\n",
        "plt.show()\n",
        "\n",
        "# 사과, 파인애플, 바나나 순\n",
        "# 사과는 사진 아래쪽으로 갈수록 값이 높아짐, 파인애플은 비교적 고르면서 높음, 바나나는 중앙의 픽셀값이 높음"
      ],
      "metadata": {
        "id": "SA8Uu5wxo-yt"
      },
      "execution_count": null,
      "outputs": []
    },
    {
      "cell_type": "code",
      "source": [
        "apple_mean=np.mean(apple,axis=0).reshape(100,100)\n",
        "pineapple_mean=np.mean(pineapple,axis=0).reshape(100,100)\n",
        "banana_maen=np.mean(banana,axis=0).reshape(100,100)\n",
        "\n",
        "fig,axs=plt.subplots(1,3,figsize=(20,5))\n",
        "\n",
        "axs[0].imshow(apple_mean,cmap='gray_r')\n",
        "axs[1].imshow(pineapple_mean,cmap='gray_r')\n",
        "axs[2].imshow(banana_maen,cmap='gray_r')\n",
        "\n",
        "plt.show() # 대표 이미지 생성"
      ],
      "metadata": {
        "id": "Q961XnnvqKNW"
      },
      "execution_count": null,
      "outputs": []
    },
    {
      "cell_type": "code",
      "source": [
        "# 평균값과 가장 가까운 사진 고르기 (절댓값 오차로 계산)\n",
        "abs_diff=np.abs(fruits-apple_mean)\n",
        "abs_mean=np.mean(abs_diff,axis=(1,2))\n",
        "print(abs_mean.shape)"
      ],
      "metadata": {
        "id": "kRMDse9bq0BB"
      },
      "execution_count": null,
      "outputs": []
    },
    {
      "cell_type": "code",
      "source": [
        "# 평균값과 오차가 가장 작은 샘플 100개 고르기\n",
        "apple_index=np.argsort(abs_mean)[:100]\n",
        "fig,axs=plt.subplots(10,10,figsize=(10,10))\n",
        "# 10 * 10 격자로 이루어진 그래프 그리기\n",
        "for i in range(10):\n",
        "    for j in range(10):\n",
        "        axs[i,j].imshow(fruits[apple_index[i*10+j]],cmap='gray_r')\n",
        "        axs[i,j].axis('off')\n",
        "plt.show()\n",
        "# 비슷한 샘플끼리 그룹으로 모으는 작업을 '군집'이라고 한다. 군집 알고리즘에서 만든 그룹을 '클러스터'라고 한다."
      ],
      "metadata": {
        "id": "dYBMSQX5smjz"
      },
      "execution_count": null,
      "outputs": []
    }
  ]
}