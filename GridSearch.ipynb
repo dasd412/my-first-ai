{
  "nbformat": 4,
  "nbformat_minor": 0,
  "metadata": {
    "colab": {
      "private_outputs": true,
      "provenance": [],
      "authorship_tag": "ABX9TyPe62r4BPCN+Z7zaRNhfUO1",
      "include_colab_link": true
    },
    "kernelspec": {
      "name": "python3",
      "display_name": "Python 3"
    },
    "language_info": {
      "name": "python"
    }
  },
  "cells": [
    {
      "cell_type": "markdown",
      "metadata": {
        "id": "view-in-github",
        "colab_type": "text"
      },
      "source": [
        "<a href=\"https://colab.research.google.com/github/dasd412/my-first-ai/blob/main/GridSearch.ipynb\" target=\"_parent\"><img src=\"https://colab.research.google.com/assets/colab-badge.svg\" alt=\"Open In Colab\"/></a>"
      ]
    },
    {
      "cell_type": "code",
      "execution_count": null,
      "metadata": {
        "id": "XQ48i6e22Ot6"
      },
      "outputs": [],
      "source": [
        "# 훈련 세트 : 테스트 세트 (8:2)에서 훈련 세트 : 테스트 세트 : 검증 세트 (6:2:2)로 바꾼다.\n",
        "# 1. 훈련 세트에서 모델 훈련 -> 검증 세트로 모델 평가\n",
        "# 2. 매개 변수를 사용해 훈련 세트와 검증 세트를 합쳐 전체 훈련 데이터에서 모델 다시 훈련\n",
        "# 3. 마지막에 테스트세트에서 최종 점수 평가"
      ]
    },
    {
      "cell_type": "code",
      "source": [
        "import pandas as pd\n",
        "\n",
        "wine=pd.read_csv('https://bit.ly/wine_csv_data')"
      ],
      "metadata": {
        "id": "YPdJZxfq3S23"
      },
      "execution_count": null,
      "outputs": []
    },
    {
      "cell_type": "code",
      "source": [
        "wine.head()"
      ],
      "metadata": {
        "id": "4XmarBzz3a7h"
      },
      "execution_count": null,
      "outputs": []
    },
    {
      "cell_type": "code",
      "source": [
        "data=wine[['alcohol','sugar','pH']].to_numpy()\n",
        "target=wine['class'].to_numpy()"
      ],
      "metadata": {
        "id": "md7a24ax3dt0"
      },
      "execution_count": null,
      "outputs": []
    },
    {
      "cell_type": "code",
      "source": [
        "from sklearn.model_selection import train_test_split\n",
        "\n",
        "train_input,test_input,train_target,test_target=train_test_split(data,target,test_size=0.2,random_state=42)"
      ],
      "metadata": {
        "id": "n2C54Cu-3o3O"
      },
      "execution_count": null,
      "outputs": []
    },
    {
      "cell_type": "code",
      "source": [
        "# 훈련세트에서 다시 검증 세트로 나누기\n",
        "sub_input,val_input,sub_target,val_target=train_test_split(train_input,train_target,test_size=0.2,random_state=42)"
      ],
      "metadata": {
        "id": "JUk0zTgB31RE"
      },
      "execution_count": null,
      "outputs": []
    },
    {
      "cell_type": "code",
      "source": [
        "print(sub_input.shape,val_input.shape)"
      ],
      "metadata": {
        "id": "zz3fkb_X4IBm"
      },
      "execution_count": null,
      "outputs": []
    },
    {
      "cell_type": "code",
      "source": [
        "from sklearn.tree import DecisionTreeClassifier\n",
        "\n",
        "dt=DecisionTreeClassifier(random_state=42)\n",
        "dt.fit(sub_input,sub_target)\n",
        "\n",
        "print(dt.score(sub_input,sub_target))\n",
        "print(dt.score(val_input,val_target))\n",
        "# 훈련세트에 과대 적합되어 있으므로 매개 변수를 바꿔서 더 좋은 모델을 찾아야 함"
      ],
      "metadata": {
        "id": "BKx6TG2r4Nv7"
      },
      "execution_count": null,
      "outputs": []
    },
    {
      "cell_type": "code",
      "source": [
        "# 교차 검증 : 검증 세트를 뗴어서 평가하는 과정을 여러번 반복하는 것\n",
        "from sklearn.model_selection import cross_validate\n",
        "\n",
        "scores=cross_validate(dt,train_input,train_target)\n",
        "print(scores)"
      ],
      "metadata": {
        "id": "mf30z2ll4rKb"
      },
      "execution_count": null,
      "outputs": []
    },
    {
      "cell_type": "code",
      "source": [
        "# 교차 검증의 최종 점수 얻는 법\n",
        "import numpy as np\n",
        "\n",
        "print(np.mean(scores['test_score']))"
      ],
      "metadata": {
        "id": "EaPa1xps5Tno"
      },
      "execution_count": null,
      "outputs": []
    },
    {
      "cell_type": "code",
      "source": [
        "# 교차 검증 자체로는 훈련 세트를 섞어 폴드를 나누지 않는다.\n",
        "# 그래서 섞어서 폴드를 나누려면 분할기를 지정해야 한다.\n",
        "# cross_validate() 함수는 회귀모델인 경우 KFold 분할기를, 분류 모델인 경우 StratifiedKFold 분할기를 사용한다.\n",
        "\n",
        "from sklearn.model_selection import StratifiedKFold\n",
        "scores=cross_validate(dt,train_input,train_target,cv=StratifiedKFold())\n",
        "print(np.mean(scores['test_score']))"
      ],
      "metadata": {
        "id": "YWwZkL1w5i_L"
      },
      "execution_count": null,
      "outputs": []
    },
    {
      "cell_type": "code",
      "source": [
        "# n_splits 매개변수는 몇번 폴드 교차 검증을 할 지 정하는 것이다.\n",
        "splitter=StratifiedKFold(n_splits=10,shuffle=True,random_state=42)\n",
        "scores=cross_validate(dt,train_input,train_target,cv=splitter)\n",
        "print(np.mean(scores['test_score']))"
      ],
      "metadata": {
        "id": "METH7qUd6Zy2"
      },
      "execution_count": null,
      "outputs": []
    },
    {
      "cell_type": "code",
      "source": [
        "#하이퍼 파라미터 튜닝\n",
        "#최적의 매개변수를 자동으로 찾아주는 도구 : 그리드 서치\n",
        "\n",
        "from sklearn.model_selection import GridSearchCV\n",
        "\n",
        "params={'min_impurity_decrease':[0.0001,0.0002,0.0003,0.0004,0.0005]}"
      ],
      "metadata": {
        "id": "bABi60ki8NVK"
      },
      "execution_count": null,
      "outputs": []
    },
    {
      "cell_type": "code",
      "source": [
        "gs=GridSearchCV(DecisionTreeClassifier(random_state=42),params,n_jobs=-1)"
      ],
      "metadata": {
        "id": "dOBBNtkX8NbV"
      },
      "execution_count": null,
      "outputs": []
    },
    {
      "cell_type": "code",
      "source": [
        "gs.fit(train_input,train_target)"
      ],
      "metadata": {
        "id": "5KoG-buL_TbH"
      },
      "execution_count": null,
      "outputs": []
    },
    {
      "cell_type": "code",
      "source": [
        "# 모델 중에서 검증 점수가 가정 높은 모델의 매개변수 조합으로 전체 훈련 세트에서 자동으로 다시 모델 훈련\n",
        "dt=gs.best_estimator_\n",
        "print(dt.score(train_input,train_target))"
      ],
      "metadata": {
        "id": "FC6A4Cbg_oyy"
      },
      "execution_count": null,
      "outputs": []
    },
    {
      "cell_type": "code",
      "source": [
        "# 그리드 서치로 찾은 최적의 매개변수\n",
        "print(gs.best_params_)"
      ],
      "metadata": {
        "id": "vt2R-1sJ_-7d"
      },
      "execution_count": null,
      "outputs": []
    },
    {
      "cell_type": "code",
      "source": [
        "# 각 매개 변수에서 수행한 교차 검증의 평균 점수\n",
        "print(gs.cv_results_['mean_test_score'])"
      ],
      "metadata": {
        "id": "KBjmTPkXAOkm"
      },
      "execution_count": null,
      "outputs": []
    },
    {
      "cell_type": "code",
      "source": [
        "best_index=np.argmax(gs.cv_results_['mean_test_score'])\n",
        "print(gs.cv_results_['params'][best_index]) # 최상의 검증 점수를 만든 매개 변수 조합"
      ],
      "metadata": {
        "id": "MF70UupGAdVA"
      },
      "execution_count": null,
      "outputs": []
    },
    {
      "cell_type": "code",
      "source": [
        "params={\n",
        "    'min_impurity_decrease':np.arange(0.0001, 0.001, 0.0001),\n",
        "    'max_depth': range(5,20,1),\n",
        "    'min_samples_split':range(2,100,10)\n",
        "}"
      ],
      "metadata": {
        "id": "mW5u0pOSA5cI"
      },
      "execution_count": null,
      "outputs": []
    },
    {
      "cell_type": "code",
      "source": [
        "gs=GridSearchCV(DecisionTreeClassifier(random_state=42),params,n_jobs=-1)\n",
        "gs.fit(train_input,train_target)"
      ],
      "metadata": {
        "id": "2F-Q_m-CJkRM"
      },
      "execution_count": null,
      "outputs": []
    },
    {
      "cell_type": "code",
      "source": [
        "print(gs.best_params_)"
      ],
      "metadata": {
        "id": "p1enOvJHKD_d"
      },
      "execution_count": null,
      "outputs": []
    },
    {
      "cell_type": "code",
      "source": [
        "print(np.max(gs.cv_results_['mean_test_score']))"
      ],
      "metadata": {
        "id": "APOwqQtTKNDI"
      },
      "execution_count": null,
      "outputs": []
    },
    {
      "cell_type": "code",
      "source": [
        "from scipy.stats import uniform,randint"
      ],
      "metadata": {
        "id": "ALn_L3UxKTH9"
      },
      "execution_count": null,
      "outputs": []
    },
    {
      "cell_type": "code",
      "source": [
        "rgen=randint(0,10)\n",
        "rgen.rvs(10)"
      ],
      "metadata": {
        "id": "k6f8An4cKflB"
      },
      "execution_count": null,
      "outputs": []
    },
    {
      "cell_type": "code",
      "source": [
        "np.unique(rgen.rvs(1000),return_counts=True)"
      ],
      "metadata": {
        "id": "kLtPLimTLB_E"
      },
      "execution_count": null,
      "outputs": []
    },
    {
      "cell_type": "code",
      "source": [
        "ugen=uniform(0,1)\n",
        "ugen.rvs(10)"
      ],
      "metadata": {
        "id": "6_gxCOL0LJKD"
      },
      "execution_count": null,
      "outputs": []
    },
    {
      "cell_type": "code",
      "source": [
        "params={\n",
        "    'min_impurity_decrease':uniform(0.0001,0.001),\n",
        "    'max_depth':randint(20,50),\n",
        "    'min_samples_split':randint(2,25),\n",
        "    'min_samples_leaf':randint(1,25),\n",
        "}"
      ],
      "metadata": {
        "id": "0CMWtZCQLV-T"
      },
      "execution_count": null,
      "outputs": []
    },
    {
      "cell_type": "code",
      "source": [
        "from sklearn.model_selection import RandomizedSearchCV\n",
        "\n",
        "gs=RandomizedSearchCV(DecisionTreeClassifier(random_state=42),params,n_iter=100,n_jobs=-1,random_state=42)\n",
        "gs.fit(train_input,train_target)"
      ],
      "metadata": {
        "id": "dfZtEgk6LoWJ"
      },
      "execution_count": null,
      "outputs": []
    },
    {
      "cell_type": "code",
      "source": [
        "# params에 정의된 매개변수 범위에서 총 100번을 샘플링하여 교차검증을 수행하고, 최적의 매개변수 조합을 찾음.\n",
        "print(gs.best_params_)"
      ],
      "metadata": {
        "id": "slRykmeuL8kl"
      },
      "execution_count": null,
      "outputs": []
    },
    {
      "cell_type": "code",
      "source": [
        "print(np.max(gs.cv_results_['mean_test_score']))"
      ],
      "metadata": {
        "id": "NElPc79bMIrK"
      },
      "execution_count": null,
      "outputs": []
    },
    {
      "cell_type": "code",
      "source": [
        "dt=gs.best_estimator_\n",
        "print(dt.score(test_input,test_target))"
      ],
      "metadata": {
        "id": "pOIkQFmoMORY"
      },
      "execution_count": null,
      "outputs": []
    }
  ]
}