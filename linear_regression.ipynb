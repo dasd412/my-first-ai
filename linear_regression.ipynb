{
  "nbformat": 4,
  "nbformat_minor": 0,
  "metadata": {
    "colab": {
      "private_outputs": true,
      "provenance": [],
      "authorship_tag": "ABX9TyOzsoVO4muh3mGCO+h9C2xF",
      "include_colab_link": true
    },
    "kernelspec": {
      "name": "python3",
      "display_name": "Python 3"
    },
    "language_info": {
      "name": "python"
    }
  },
  "cells": [
    {
      "cell_type": "markdown",
      "metadata": {
        "id": "view-in-github",
        "colab_type": "text"
      },
      "source": [
        "<a href=\"https://colab.research.google.com/github/dasd412/my-first-ai/blob/main/linear_regression.ipynb\" target=\"_parent\"><img src=\"https://colab.research.google.com/assets/colab-badge.svg\" alt=\"Open In Colab\"/></a>"
      ]
    },
    {
      "cell_type": "code",
      "execution_count": null,
      "metadata": {
        "id": "ZGeryBqLVFSV"
      },
      "outputs": [],
      "source": [
        "import numpy as np\n",
        "\n",
        "perch_length = np.array([8.4, 13.7, 15.0, 16.2, 17.4, 18.0, 18.7, 19.0, 19.6, 20.0, 21.0,\n",
        "       21.0, 21.0, 21.3, 22.0, 22.0, 22.0, 22.0, 22.0, 22.5, 22.5, 22.7,\n",
        "       23.0, 23.5, 24.0, 24.0, 24.6, 25.0, 25.6, 26.5, 27.3, 27.5, 27.5,\n",
        "       27.5, 28.0, 28.7, 30.0, 32.8, 34.5, 35.0, 36.5, 36.0, 37.0, 37.0,\n",
        "       39.0, 39.0, 39.0, 40.0, 40.0, 40.0, 40.0, 42.0, 43.0, 43.0, 43.5,\n",
        "       44.0])\n",
        "perch_weight = np.array([5.9, 32.0, 40.0, 51.5, 70.0, 100.0, 78.0, 80.0, 85.0, 85.0, 110.0,\n",
        "       115.0, 125.0, 130.0, 120.0, 120.0, 130.0, 135.0, 110.0, 130.0,\n",
        "       150.0, 145.0, 150.0, 170.0, 225.0, 145.0, 188.0, 180.0, 197.0,\n",
        "       218.0, 300.0, 260.0, 265.0, 250.0, 250.0, 300.0, 320.0, 514.0,\n",
        "       556.0, 840.0, 685.0, 700.0, 700.0, 690.0, 900.0, 650.0, 820.0,\n",
        "       850.0, 900.0, 1015.0, 820.0, 1100.0, 1000.0, 1100.0, 1000.0,\n",
        "       1000.0])"
      ]
    },
    {
      "cell_type": "code",
      "source": [
        "# 데이터를 훈련 세트와 테스트 세트로 나눈 후, 특성 데이터는 2차원 배열로 반환\n",
        "from sklearn.model_selection import train_test_split\n",
        "\n",
        "train_input,test_input, train_target,test_target=train_test_split(perch_length, perch_weight, random_state=42)\n",
        "\n",
        "# 훈련 세트와 테스트 세트를 2차원 배열로 바꿈.\n",
        "train_input=train_input.reshape(-1,1)\n",
        "test_input=test_input.reshape(-1,1)"
      ],
      "metadata": {
        "id": "1erS7KcHZtmX"
      },
      "execution_count": null,
      "outputs": []
    },
    {
      "cell_type": "code",
      "source": [
        "from sklearn.neighbors import KNeighborsRegressor\n",
        "\n",
        "knr=KNeighborsRegressor(n_neighbors=3)\n",
        "\n",
        "knr.fit(train_input,train_target)\n"
      ],
      "metadata": {
        "id": "_BZ5n_sZaTSg"
      },
      "execution_count": null,
      "outputs": []
    },
    {
      "cell_type": "code",
      "source": [
        "# 위 모델을 사용해 길이가 50cm인 농어의 무게 예측\n",
        "# 예측치는 1,033 g인데 실제 값은 약 1,500g이므로 차이가 많이난다!!\n",
        "print(knr.predict([[50]]))"
      ],
      "metadata": {
        "id": "XepOxCseadri"
      },
      "execution_count": null,
      "outputs": []
    },
    {
      "cell_type": "code",
      "source": [
        "import matplotlib.pyplot as plt\n",
        "\n",
        "# 50cm 농어의 이웃을 구해보자.\n",
        "distances,indexes=knr.kneighbors([[50]])\n",
        "\n",
        "plt.scatter(train_input,train_target)\n",
        "# 훈련 세트 중에서 이웃 샘플만 다시 그려보자\n",
        "plt.scatter(train_input[indexes],train_target[indexes],marker='D')\n",
        "\n",
        "# 50cm 농어 데이터\n",
        "plt.scatter(50,1033,marker='^')\n",
        "plt.xlabel('length')\n",
        "plt.ylabel('weight')\n",
        "\n",
        "plt.show()"
      ],
      "metadata": {
        "id": "2s3LoVNRbBmj"
      },
      "execution_count": null,
      "outputs": []
    },
    {
      "cell_type": "code",
      "source": [
        "# 이웃 샘플의 타깃의 평균을 구해보자.\n",
        "print(np.mean(train_target[indexes]))\n"
      ],
      "metadata": {
        "id": "OCCRog6ocKpH"
      },
      "execution_count": null,
      "outputs": []
    },
    {
      "cell_type": "code",
      "source": [
        "# knn 회귀는 가장 가까운 샘플을 찾아 타깃을 평균한다. 그래서 새로운 샘플이 훈련 세트의 범위를 벗어나면 엉뚱한 값을 예측한다. 길이가 100cm여도 1,033g으로 예측하고 있다...\n",
        "print(knr.predict([[100]]))"
      ],
      "metadata": {
        "id": "BtYxV2_VcvNv"
      },
      "execution_count": null,
      "outputs": []
    },
    {
      "cell_type": "code",
      "source": [
        "# 100cm 농어의 이웃을 구한다.\n",
        "distances,indexes=knr.kneighbors([[100]])\n",
        "\n",
        "plt.scatter(train_input,train_target)\n",
        "\n",
        "#훈련 세트 중에서 이웃 샘플만 다시 그린다.\n",
        "plt.scatter(train_input[indexes],train_target[indexes],marker='D')\n",
        "\n",
        "#100cm 농어 데이터\n",
        "plt.scatter(100,1033,marker='^')\n",
        "plt.xlabel('length')\n",
        "plt.ylabel('weight')\n",
        "\n",
        "plt.show()"
      ],
      "metadata": {
        "id": "b7eyeFY-c1jU"
      },
      "execution_count": null,
      "outputs": []
    },
    {
      "cell_type": "code",
      "source": [
        "# 머신러닝 모델은 한 번 만들고 끝나는 프로그램이 아니다.\n",
        "# 시간과 환경이 변화하면서 데이터도 바뀌므로 주기적으로 새로운 훈련 데이터로 모델을 다시 훈련시켜야 한다."
      ],
      "metadata": {
        "id": "9E9YKQa9dZAE"
      },
      "execution_count": null,
      "outputs": []
    },
    {
      "cell_type": "code",
      "source": [
        "# 선형 회귀 : 특성이 하나 인 경우, 그 특성을 가장 잘 나타낼 수 있는 직선을 학습하는 알고리즘.\n",
        "# 이 예제는 knn으로는 풀 수 없기 때문에 선형 회귀로 푼다.\n",
        "\n",
        "from sklearn.linear_model import LinearRegression\n",
        "\n",
        "lr=LinearRegression()\n",
        "\n",
        "# 선형 회귀 모델을 훈련.\n",
        "lr.fit(train_input,train_target)\n",
        "\n",
        "# 50cm 농어에 대해 예측\n",
        "print(lr.predict([[50]]))"
      ],
      "metadata": {
        "id": "XMVR6Nxtdloo"
      },
      "execution_count": null,
      "outputs": []
    },
    {
      "cell_type": "code",
      "source": [
        "# 선형 회귀가 학습한 직선은 y=wx+b 형태로 그려진다.\n",
        "w,b=lr.coef_,lr.intercept_ # 가중치 w, 편향 b\n",
        "\n",
        "print(w,b)"
      ],
      "metadata": {
        "id": "vrHIKdPuekCg"
      },
      "execution_count": null,
      "outputs": []
    },
    {
      "cell_type": "code",
      "source": [
        "# coef_, intercept_ 를 머신러닝 알고리즘이 찾은 값이라는 의미로 모델 파라미터라고 부른다.\n",
        "# 많은 머신 러닝 알고리즘의 훈련 과정은 최적의 모델 파라미터를 찾는 것과 같다. 이를 모델 기반 학습이라고 한다.\n",
        "# knn은 모델 파라미터가 없고, 훈련 데이터를 저장하는 것이 훈련의 전부였다. knn과 같은 학습을 사례 기반 학습이라고 한다."
      ],
      "metadata": {
        "id": "uRqCxjXae5M0"
      },
      "execution_count": null,
      "outputs": []
    },
    {
      "cell_type": "code",
      "source": [
        "# 훈련 세트의 산점도 그리기\n",
        "plt.scatter(train_input,train_target)\n",
        "\n",
        "# 길이 15에서 50까지 1차 방정식 그래프 그리기\n",
        "plt.plot([15,50],[15*lr.coef_+lr.intercept_,50*lr.coef_+lr.intercept_])\n",
        "\n",
        "# 50cm 농어 데이터\n",
        "plt.scatter(50,1241.8,marker=\"^\")\n",
        "\n",
        "plt.xlabel('length')\n",
        "plt.ylabel('weight')\n",
        "\n",
        "plt.show()"
      ],
      "metadata": {
        "id": "LZkKVEFifON1"
      },
      "execution_count": null,
      "outputs": []
    },
    {
      "cell_type": "code",
      "source": [
        "# 훈련 세트 점수가 조금 더 높게 나오긴 하지만, 훈련 세트 점수 자체도 높지가 않다. 그래서 오히려 과소적합이라고 할 수 있다.\n",
        "# 원인은 위 그래프의 왼쪽 아래... (일차 방정식 그래프의 경우 왼쪽으로 가면, 음수에 도달한다. 그런데 농어 무게는 음수가 될 수 없다!!)\n",
        "print(lr.score(train_input,train_target))\n",
        "print(lr.score(test_input,test_target))"
      ],
      "metadata": {
        "id": "w-tUPwnxf-aN"
      },
      "execution_count": null,
      "outputs": []
    },
    {
      "cell_type": "code",
      "source": [
        "# 위의 농어의 길이와 무게에 대한 산점도를 보면, 일직선이라기보다 왼쪽 위로 조금 구부러진 곡선에 가깝다.\n",
        "# 무게 = a*길이^2+b*길이+c 형태처럼 2차방정식으로 만들어야 함.\n",
        "# 2차 방정식 그래프를 그리려면 길이를 제곱한 항이 훈련 세트에 추가되어야 한다.\n",
        "\n",
        "\n",
        "# column_stack()을 사용하면, 행렬 각 원소에 대해 제곱한 값을 이어 붙일 수 있다. (물론 넘파이 브로드 캐스팅 적용이 됨.)\n",
        "train_poly=np.column_stack((train_input**2,train_input))\n",
        "test_poly=np.column_stack((test_input**2,test_input))\n",
        "\n",
        "# 원래 특성인 길이를 제곱해 왼쪽 열에 추가했으므로 둘다 열이 2개가 된다.\n",
        "print(train_poly.shape,test_poly.shape)"
      ],
      "metadata": {
        "id": "JMCLYOZhgUOk"
      },
      "execution_count": null,
      "outputs": []
    },
    {
      "cell_type": "code",
      "source": [
        "lr=LinearRegression()\n",
        "\n",
        "# 2차 방정식 그래프를 찾기 위해 훈련 세트에 제곱항을 추가했다. 하지만 타깃값은 그대로 사용해야 한다. 목표하는 값은 어떤 그래프를 훈련하든지 간에 바꿀 필요가 없다.\n",
        "lr.fit(train_poly,train_target)\n",
        "\n",
        "# 테스트할 때는 훈련 세트처럼 제곱항을 추가한다.\n",
        "print(lr.predict([[50**2,50]]))"
      ],
      "metadata": {
        "id": "I9AIoY6DhTiO"
      },
      "execution_count": null,
      "outputs": []
    },
    {
      "cell_type": "code",
      "source": [
        "# 계수와 절편 출력\n",
        "print(lr.coef_,lr.intercept_)\n",
        "\n",
        "# 이 모델은 무게 = 1.01 * 길이 ^2 - 21.6 * 길이 + 116.05의 그래프를 학습함. 이런 방정식을 다항식이라고 하며, 다항식을 사용한 선형 회귀를 다항 회귀라고 한다."
      ],
      "metadata": {
        "id": "C6x1oQRiiCg2"
      },
      "execution_count": null,
      "outputs": []
    },
    {
      "cell_type": "code",
      "source": [
        "# 구간별 직선을 그리기 위해 15에서 49까지 정수 배열을 만든다.\n",
        "point=np.arange(15,50)\n",
        "\n",
        "plt.scatter(train_input,train_target)\n",
        "\n",
        "# 15에서 49까지 2차 방정식 그래프를 그린다.\n",
        "plt.plot(point,1.01*point**2 - 21.6*point +116.05)\n",
        "\n",
        "# 50cm 농어 데이터\n",
        "plt.scatter(50,1574,marker='^')\n",
        "plt.xlabel('length')\n",
        "plt.ylabel('weight')\n",
        "\n",
        "plt.show()"
      ],
      "metadata": {
        "id": "Zrkv1l01iUHs"
      },
      "execution_count": null,
      "outputs": []
    },
    {
      "cell_type": "code",
      "source": [
        "print(lr.score(train_poly,train_target))\n",
        "print(lr.score(test_poly,test_target))\n",
        "\n",
        "# 훈련 세트와 테스트 세트 점수가 모두 높아졌다. 그래도 여전히 테스트 세트 점수가 조금 더 높다. (과소 적합이 아직 남아있음 -> 조금 더 복잡한 모델 도입 필요!!)"
      ],
      "metadata": {
        "id": "0k6jyMZEjZM6"
      },
      "execution_count": null,
      "outputs": []
    }
  ]
}