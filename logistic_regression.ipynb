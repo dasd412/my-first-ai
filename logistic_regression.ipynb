{
  "nbformat": 4,
  "nbformat_minor": 0,
  "metadata": {
    "colab": {
      "private_outputs": true,
      "provenance": [],
      "authorship_tag": "ABX9TyPSF3CxluCNZaiBb2IIAVF9",
      "include_colab_link": true
    },
    "kernelspec": {
      "name": "python3",
      "display_name": "Python 3"
    },
    "language_info": {
      "name": "python"
    }
  },
  "cells": [
    {
      "cell_type": "markdown",
      "metadata": {
        "id": "view-in-github",
        "colab_type": "text"
      },
      "source": [
        "<a href=\"https://colab.research.google.com/github/dasd412/my-first-ai/blob/main/logistic_regression.ipynb\" target=\"_parent\"><img src=\"https://colab.research.google.com/assets/colab-badge.svg\" alt=\"Open In Colab\"/></a>"
      ]
    },
    {
      "cell_type": "code",
      "execution_count": null,
      "metadata": {
        "id": "4tADz2Qnyykt"
      },
      "outputs": [],
      "source": [
        "import pandas as pd\n",
        "\n",
        "fish=pd.read_csv('https://bit.ly/fish_csv_data')\n",
        "fish.head()"
      ]
    },
    {
      "cell_type": "code",
      "source": [
        "# 어떤 종류의 생선이 있는지 species 열에서 고유한 값 추출해보기\n",
        "print(pd.unique(fish['Species']))"
      ],
      "metadata": {
        "id": "UmVplkJEzt_H"
      },
      "execution_count": null,
      "outputs": []
    },
    {
      "cell_type": "code",
      "source": [
        "# species열만 타깃 데이터로 만들기 위해 나머지 5개 열은 입력 데이터로 사용\n",
        "fish_input=fish[['Weight','Length','Diagonal','Height','Width']].to_numpy()"
      ],
      "metadata": {
        "id": "S0rKbWFTz820"
      },
      "execution_count": null,
      "outputs": []
    },
    {
      "cell_type": "code",
      "source": [
        "print(fish_input[:5])"
      ],
      "metadata": {
        "id": "LIGek4Bw0TsT"
      },
      "execution_count": null,
      "outputs": []
    },
    {
      "cell_type": "code",
      "source": [
        "# 타깃 데이터 만들기\n",
        "fish_target=fish['Species'].to_numpy()"
      ],
      "metadata": {
        "id": "uHolBvU30Yfi"
      },
      "execution_count": null,
      "outputs": []
    },
    {
      "cell_type": "code",
      "source": [
        "from sklearn.model_selection import train_test_split\n",
        "\n",
        "train_input,test_input,train_target,test_target=train_test_split(fish_input,fish_target,random_state=42) # 훈련 세트와 테스트 세트의 타깃 데이터 모두에 7개의 생선 종류가 들어가 있다.\n",
        "# 이렇게 타깃 데이터에 2개 이상의 클래스가 포함된 문제를 다중 분류라고 부른다."
      ],
      "metadata": {
        "id": "9kKvXGDY0ibS"
      },
      "execution_count": null,
      "outputs": []
    },
    {
      "cell_type": "code",
      "source": [
        "# 훈련 세트와 테스트 세트 표준화 전처리\n",
        "from sklearn.preprocessing import StandardScaler\n",
        "\n",
        "ss=StandardScaler()\n",
        "ss.fit(train_input)\n",
        "# 훈련 세트의 통계 값으로 테스트 세트를 변환해야 한다!!\n",
        "train_scaled=ss.transform(train_input)\n",
        "test_scaled=ss.transform(test_input)\n"
      ],
      "metadata": {
        "id": "M-DCTYjG0vcf"
      },
      "execution_count": null,
      "outputs": []
    },
    {
      "cell_type": "code",
      "source": [
        "# knn 분류기로 테스트 세트에 들어 있는 확률을 예측해보자.\n",
        "from sklearn.neighbors import KNeighborsClassifier\n",
        "\n",
        "kn=KNeighborsClassifier(n_neighbors=3)\n",
        "kn.fit(train_scaled,train_target)\n",
        "print(kn.score(train_scaled,train_target))\n",
        "print(kn.score(test_scaled,test_target))"
      ],
      "metadata": {
        "id": "WU9MDr501Der"
      },
      "execution_count": null,
      "outputs": []
    },
    {
      "cell_type": "code",
      "source": [
        "print(kn.classes_)"
      ],
      "metadata": {
        "id": "estufWYC18Vr"
      },
      "execution_count": null,
      "outputs": []
    },
    {
      "cell_type": "code",
      "source": [
        "print(kn.predict(test_scaled[:5]))"
      ],
      "metadata": {
        "id": "Cubn7oSV2VNC"
      },
      "execution_count": null,
      "outputs": []
    },
    {
      "cell_type": "code",
      "source": [
        "import numpy as np\n",
        "proba=kn.predict_proba(test_scaled[:5])\n",
        "print(np.round(proba,decimals=4))"
      ],
      "metadata": {
        "id": "_faEJBlr2gmh"
      },
      "execution_count": null,
      "outputs": []
    },
    {
      "cell_type": "code",
      "source": [
        "distances,indexes=kn.kneighbors(test_scaled[3:4])\n",
        "print(train_target[indexes])"
      ],
      "metadata": {
        "id": "9tHaPf1O20PT"
      },
      "execution_count": null,
      "outputs": []
    },
    {
      "cell_type": "code",
      "source": [
        "# 로지스틱 회귀는 이름은 회귀이지만, 분류 모델이다. 선형 회귀와 동일하게 선형 방정식을 학습한다.\n",
        "# 시그모이드 함수를 사용하면 0~1의 값으로 나타낼 수 있게 된다.\n",
        "import numpy as np\n",
        "import matplotlib.pyplot as plt\n",
        "\n",
        "z=np.arange(-5,5,0.1) # -5 ~ 5 사이에 0.1 간격으로 배열 z를 만듬\n",
        "phi =1/(1+np.exp(-z)) # z위치마다 시그모이드 함수 계산\n",
        "plt.plot(z,phi)\n",
        "plt.xlabel('z')\n",
        "plt.ylabel('phi')\n",
        "plt.show()"
      ],
      "metadata": {
        "id": "dFi-E8rW3X-S"
      },
      "execution_count": null,
      "outputs": []
    },
    {
      "cell_type": "code",
      "source": [
        "# 넘파이 배열은 True,False 값을 전달하여 행을 선택할 수 있는데, 이를 불리언 인덱싱이라고 한다.\n",
        "# 다음은 A와 C만 골라내는 예제이다.\n",
        "\n",
        "char_arr=np.array(['A','B','C','D','E'])\n",
        "print(char_arr[[True,False,True,False,False]])"
      ],
      "metadata": {
        "id": "IczKWeXm4fVG"
      },
      "execution_count": null,
      "outputs": []
    },
    {
      "cell_type": "code",
      "source": [
        "bream_smelt_indexes=(train_target=='Bream') | (train_target=='Smelt')\n",
        "train_bream_smelt=train_scaled[bream_smelt_indexes]\n",
        "target_bream_smelt=train_target[bream_smelt_indexes]"
      ],
      "metadata": {
        "id": "kHpwcMwv4-vx"
      },
      "execution_count": null,
      "outputs": []
    },
    {
      "cell_type": "code",
      "source": [
        "#로지스틱 회귀로 이진 분류를 수행해보자.\n",
        "from sklearn.linear_model import LogisticRegression\n",
        "\n",
        "lr=LogisticRegression()\n",
        "lr.fit(train_bream_smelt,target_bream_smelt)"
      ],
      "metadata": {
        "id": "hhZIo6nd5UyN"
      },
      "execution_count": null,
      "outputs": []
    },
    {
      "cell_type": "code",
      "source": [
        "print(lr.predict(train_bream_smelt[:5]))"
      ],
      "metadata": {
        "id": "wGWkGUax52Lp"
      },
      "execution_count": null,
      "outputs": []
    },
    {
      "cell_type": "code",
      "source": [
        "# 예측 확률 , 첫 번째 열이 음성 클래스 (0)에 대한 확률이고 두 번째 열이 양성 클래스 (1)에 대한 확률.\n",
        "print(lr.predict_proba(train_bream_smelt[:5]))"
      ],
      "metadata": {
        "id": "WX7md9rO57v0"
      },
      "execution_count": null,
      "outputs": []
    },
    {
      "cell_type": "code",
      "source": [
        "#classes_ 속성을 이용해 타깃 데이터의 순서를 알 수 있음. 음성 클래스가 Bream, 양성 클래스가 Smelt\n",
        "print(lr.classes_)"
      ],
      "metadata": {
        "id": "wKZ1HUCy6OV8"
      },
      "execution_count": null,
      "outputs": []
    },
    {
      "cell_type": "code",
      "source": [
        "# 로지스틱 회귀가 학습한 계수 확인해보기\n",
        "print(lr.coef_,lr.intercept_)"
      ],
      "metadata": {
        "id": "f0HHBpNx6YYw"
      },
      "execution_count": null,
      "outputs": []
    },
    {
      "cell_type": "code",
      "source": [
        "# 로지스틱 회귀 결괏값 확인 (단, 양성 클래스에 한해서만 값을 반환함.)\n",
        "decisions=lr.decision_function(train_bream_smelt[:5])\n",
        "print(decisions)"
      ],
      "metadata": {
        "id": "DxBrHnkx6jQH"
      },
      "execution_count": null,
      "outputs": []
    },
    {
      "cell_type": "code",
      "source": [
        "# 위 결괏값을 확률로 표현\n",
        "from scipy.special import expit\n",
        "print(expit(decisions)) # expit()은 시그모이드 함수와 동일함."
      ],
      "metadata": {
        "id": "E32bi27N7GOZ"
      },
      "execution_count": null,
      "outputs": []
    },
    {
      "cell_type": "code",
      "source": [
        "#로지스틱 회귀로 다중 분류를 해보자!\n",
        "\n",
        "# LogisticRegression 은 기본적으로 릿지 회귀와 같이 계수의 제곱을 규제한다. 이런 규제를 L2 규제라고 한다.\n",
        "# 그리고 규제를 제어하는 변수를 C라 한다. C가 작을수록 규제가 커진다.\n",
        "\n",
        "lr=LogisticRegression(C=20,max_iter=1000)#max_iter는 반복 횟수이다. LogisticRegression은 기본적으로 반복적인 알고리즘을 사용한다.\n",
        "lr.fit(train_scaled,train_target)\n",
        "print(lr.score(train_scaled, train_target))\n",
        "print(lr.score(test_scaled,test_target))"
      ],
      "metadata": {
        "id": "pOexkuq_7axw"
      },
      "execution_count": null,
      "outputs": []
    },
    {
      "cell_type": "code",
      "source": [
        "print(lr.predict(test_scaled[:5]))"
      ],
      "metadata": {
        "id": "7IqA-uWr8Ur4"
      },
      "execution_count": null,
      "outputs": []
    },
    {
      "cell_type": "code",
      "source": [
        "# 예측 확률 출력, 5개 샘플 예측이므로 5개의 행이 출력되었다. 그리고 7개 생선에 대한 확률이므로 7개의 열이 출력됬다.\n",
        "proba=lr.predict_proba(test_scaled[:5])\n",
        "print(np.round(proba,decimals=3))"
      ],
      "metadata": {
        "id": "k9eQmjq38asH"
      },
      "execution_count": null,
      "outputs": []
    },
    {
      "cell_type": "code",
      "source": [
        "print(lr.coef_.shape,lr.intercept_.shape) # 다중 분류에서는 시그모이드 함수가 아니라 소프트맥스 함수를 사용한다."
      ],
      "metadata": {
        "id": "sw_ULoZq8o_X"
      },
      "execution_count": null,
      "outputs": []
    },
    {
      "cell_type": "code",
      "source": [
        "decision=lr.decision_function(test_scaled[:5])\n",
        "print(np.round(decision,decimals=2))"
      ],
      "metadata": {
        "id": "b7A29Vdq9Pj0"
      },
      "execution_count": null,
      "outputs": []
    },
    {
      "cell_type": "code",
      "source": [
        "from scipy.special import softmax\n",
        "proba=softmax(decision,axis=1)# axis 매개변수는 소프트맥스를 계산할 축을 지정한다.axis=1이면, 각행에 대해 소프트맥스를 계산함.\n",
        "print(np.round(proba,decimals=3))"
      ],
      "metadata": {
        "id": "4HBcJDVb93Oz"
      },
      "execution_count": null,
      "outputs": []
    }
  ]
}